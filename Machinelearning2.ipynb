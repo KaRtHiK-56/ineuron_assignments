{
  "nbformat": 4,
  "nbformat_minor": 0,
  "metadata": {
    "colab": {
      "provenance": []
    },
    "kernelspec": {
      "name": "python3",
      "display_name": "Python 3"
    },
    "language_info": {
      "name": "python"
    }
  },
  "cells": [
    {
      "cell_type": "markdown",
      "source": [
        "# 1. What is the concept of human learning? Please give two examples.\n"
      ],
      "metadata": {
        "id": "YT7W9042JeEU"
      }
    },
    {
      "cell_type": "markdown",
      "source": [
        "Learning is the process of acquiring new understanding, knowledge, behaviors, skills, values, attitudes, and preferences.\n",
        "Learning to drive a motor-car, typewriting, singing or memorizing a poem or a mathematical table, and music"
      ],
      "metadata": {
        "id": "vrSQ7lNeLkvJ"
      }
    },
    {
      "cell_type": "markdown",
      "source": [
        "# 2. What different forms of human learning are there? Are there any machine learning equivalents?"
      ],
      "metadata": {
        "id": "uuSY-NFhJouy"
      }
    },
    {
      "cell_type": "markdown",
      "source": [
        "Artificial Intelligence Learning Theories. Machine Learning. Reinforcement Learning. Supervised Learning. Unsupervised Learning.\n",
        "ML equivalents like Linear regression, decision trees, random forest and support vector machines are some commonly used techniques that are actually examples of supervised learning."
      ],
      "metadata": {
        "id": "qDcPCYkLLhPP"
      }
    },
    {
      "cell_type": "markdown",
      "source": [
        "# 3. What is machine learning, and how does it work? What are the key responsibilities of machine learning?"
      ],
      "metadata": {
        "id": "x6LJStoeJ59C"
      }
    },
    {
      "cell_type": "markdown",
      "source": [
        "Machine learning is a branch of artificial intelligence which enables the machine to gather learning experience from the data.\n",
        "\n",
        "machine learning is the branch of science which enables the machine to gather insights from the data.\n",
        "\n",
        "machine learning is the branch of study in which the machine gets to learn from data without explicitily being programmed.\n",
        "\n",
        "machine learning is defined as there is a Task T , with a Experience E with Performance analysis P and the machine gets to learn from the Task T with the evaluation metrics P which increases the Experience E of the machine.\n",
        "\n",
        "Roles and responsibilities of a machine learning engineer are:\n",
        "\n",
        "Designing ML systems.\n",
        "Researching and implementing ML algorithms and tools. Selecting appropriate data sets.\n",
        "Picking appropriate data representation methods. Identifying differences in data distribution that affects model performance. Verifying data quality."
      ],
      "metadata": {
        "id": "ssy9WoNgKFPB"
      }
    },
    {
      "cell_type": "markdown",
      "source": [
        "# 4. Define the terms &quot;penalty&quot; and &quot;reward&quot; in the context of reinforcement learning."
      ],
      "metadata": {
        "id": "Jh9rjQduLnmI"
      }
    },
    {
      "cell_type": "markdown",
      "source": [
        "A Reinforcement Learning Algorithm, which may also be referred to as an agent, learns by interacting with its environment. The agent receives rewards by performing correctly and penalties for performing incorrectly. The agent learns without intervention from a human by maximizing its reward and minimizing its penalty.\n",
        "\n",
        "Penalty --> gets penalised for doing it wrongly\n",
        "Reward --> gets appreciated for doing it correctly"
      ],
      "metadata": {
        "id": "pXDbOp2cLnsB"
      }
    },
    {
      "cell_type": "markdown",
      "source": [
        "# 5. Explain the term &quot;learning as a search&quot;?"
      ],
      "metadata": {
        "id": "ScinxzisLnuC"
      }
    },
    {
      "cell_type": "markdown",
      "source": [
        "Learning can be viewed as a search through the space of all sentences in a concept description language for a sentence that best describes the data. Alternatively, it can be viewed as a search through all hypotheses in a hypothesis space."
      ],
      "metadata": {
        "id": "_gzVD2fELnv-"
      }
    },
    {
      "cell_type": "markdown",
      "source": [
        "#6. What are the various goals of machine learning? What is the relationship between these and human learning?"
      ],
      "metadata": {
        "id": "kZPQL0GzLnz6"
      }
    },
    {
      "cell_type": "markdown",
      "source": [
        "The Goal of machine learning, closely coupled with the goal of AI, is to achieve a through understanding about the nature of learning process (both human learning and other forms of learning), about the computational aspects of learning behaviors, and to implant the learning capability in computer systems.\n",
        "\n",
        "Humans have the ability to learn, however with the progress in artificial intelligence, machine learning has become a resource which can augment or even replace human learning. Learning does not happen all at once, but it builds upon and is shaped by previous knowledge."
      ],
      "metadata": {
        "id": "-vhleA8zLnyM"
      }
    },
    {
      "cell_type": "markdown",
      "source": [
        "# 7. Illustrate the various elements of machine learning using a real-life illustration."
      ],
      "metadata": {
        "id": "5tUZa83BLn3Y"
      }
    },
    {
      "cell_type": "markdown",
      "source": [
        "Data\n",
        "\n",
        "Task\n",
        "\n",
        "Model\n",
        "\n",
        "Loss Function\n",
        "\n",
        "Learning Algorithm\n",
        "\n",
        "Evaluation\n",
        "\n"
      ],
      "metadata": {
        "id": "fThvGNyMLn5f"
      }
    },
    {
      "cell_type": "markdown",
      "source": [
        "# 8. Provide an example of the abstraction method."
      ],
      "metadata": {
        "id": "7wZen_gQLn7m"
      }
    },
    {
      "cell_type": "markdown",
      "source": [
        "In Machine Learning, Abstraction is supported primarily at the level of modules. This can be justified in two ways: first, Data abstraction is mostly a question of program interfaces and therefore it arises naturally at the point where we have to consider program composition and modules."
      ],
      "metadata": {
        "id": "kfNbep1YLn_D"
      }
    },
    {
      "cell_type": "markdown",
      "source": [
        "# 9. What is the concept of generalization? What function does it play in the machine learning process?"
      ],
      "metadata": {
        "id": "MUXtG2KvLoCL"
      }
    },
    {
      "cell_type": "markdown",
      "source": [
        "Generalization refers to your model's ability to adapt properly to new, previously unseen data, drawn from the same distribution as the one used to create the model.In machine learning, generalization is a definition to demonstrate how well is a trained model to classify or forecast unseen data.This issue can result to classify an actual dog image as a cat from the unseen dataset. Therefore, data diversity is very important factor in order to make a good prediction."
      ],
      "metadata": {
        "id": "-Oa2Mu63LoEb"
      }
    },
    {
      "cell_type": "markdown",
      "source": [
        "# 9. What is classification, exactly? What are the main distinctions between classification and regression?"
      ],
      "metadata": {
        "id": "IHu_4CL6LoGn"
      }
    },
    {
      "cell_type": "markdown",
      "source": [
        "Classification is a supervised machine learning technique which deals with predicting discrete variables.the output of the classification will be discrete example predicting yes/no , true/false labelling the output based on the independent variable. predicting a outcome.\n",
        "\n",
        "\n",
        "the main difference is regression deals with continious variables and classification deals with discrete varialbles."
      ],
      "metadata": {
        "id": "AliJTB75OS85"
      }
    },
    {
      "cell_type": "markdown",
      "source": [
        "# 11. What is regression, and how does it work? Give an example of a real-world problem that was solved using regression."
      ],
      "metadata": {
        "id": "SZZZ96AhOS_i"
      }
    },
    {
      "cell_type": "markdown",
      "source": [
        "Regression is a supervised machine learning technique which deals with predicting continious variables. Regression technique works in such a way by taking the inputs as idependent variable and predicting a continous variable as output.\n",
        "\n",
        "Examples:\n",
        "\n",
        "Fare prediction\n",
        "\n",
        "Weather forecasting\n",
        "\n",
        "Stock price prediction "
      ],
      "metadata": {
        "id": "mXYW_MyROTB1"
      }
    },
    {
      "cell_type": "markdown",
      "source": [
        "# 12. Describe the clustering mechanism in detail."
      ],
      "metadata": {
        "id": "lI9qNqTLOTEO"
      }
    },
    {
      "cell_type": "markdown",
      "source": [
        "Clustering is a type of learning used in Unsupervised machine learning technique which divides the whole data into few particular groups based on some charactersticts(data point nearer to each other similarity) and clusters them accordingly."
      ],
      "metadata": {
        "id": "MXBHYcubOTIr"
      }
    },
    {
      "cell_type": "markdown",
      "source": [
        "# 13.Make brief observations on two of the following topics:\n",
        "\n",
        "#i. Machine learning algorithms are used\n",
        "#ii. Studying under supervision\n",
        "#iii. Studying without supervision\n",
        "#iv. Reinforcement learning is a form of learning based on positive reinforcement."
      ],
      "metadata": {
        "id": "JJ09YKBqRNYM"
      }
    },
    {
      "cell_type": "markdown",
      "source": [
        "**Machine learning algorithms are used**: At its Most basic, Machine Learning uses programmed algorithms that receive and analyse input data to predict output values within an acceptable range. As new data is fed to these algorithms, they learn and optimise their operations to improve performance, developing intelligence over time.\n",
        "\n",
        "**Studying Under Supervision**: In machine learning, there are two important categories- Supervised and Unsupervised learning.Supervised learning, an algorithm learns from a training dataset. We know the correct answers or desired output, the algorithm makes predictions using the given dataset and is corrected by the “supervisor”"
      ],
      "metadata": {
        "id": "keAye0G_RNaI"
      }
    },
    {
      "cell_type": "code",
      "source": [],
      "metadata": {
        "id": "6R1VGwYYUxtj"
      },
      "execution_count": null,
      "outputs": []
    }
  ]
}