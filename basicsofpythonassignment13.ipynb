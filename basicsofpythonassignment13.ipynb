{
  "nbformat": 4,
  "nbformat_minor": 0,
  "metadata": {
    "colab": {
      "name": "basicsofpythonassignment13.ipynb",
      "provenance": []
    },
    "kernelspec": {
      "name": "python3",
      "display_name": "Python 3"
    },
    "language_info": {
      "name": "python"
    }
  },
  "cells": [
    {
      "cell_type": "markdown",
      "source": [
        "1.What are the two values of the Boolean data type? How do you write them?\n",
        "\n",
        "Answer:\n",
        "\n",
        "The two values of the Boolean data type are True and False. We write True by using T in uppercase and the rest in lowercase. Similarly, we write False by using F in uppercase and the rest in lowercase."
      ],
      "metadata": {
        "id": "1ucukmf5DcV6"
      }
    },
    {
      "cell_type": "markdown",
      "source": [
        "2.\n",
        "What are the three different types of Boolean operators?\n",
        "\n",
        "Answer:\n",
        "\n",
        "The three different types of Boolean operators are as follows:\n",
        "a) and\n",
        "b) or\n",
        "c) not"
      ],
      "metadata": {
        "id": "TtmYcNyxDh3S"
      }
    },
    {
      "cell_type": "markdown",
      "source": [
        "3.\n",
        "Make a list of each Boolean operator's truth tables \n",
        "(i.e. every possible combination of Boolean values for the operator and what it evaluate ).\n",
        "\n",
        "Answer:\n",
        "\n",
        "    (Boolean_values)        Operator               Evaluated_result\n",
        "      x       y \n",
        "    \n",
        "    \n",
        "    True    True              and                        True\n",
        "    True    False             and                        False\n",
        "    False   True              and                        False\n",
        "    False   False             and                        False\n",
        "  \n",
        "    True    True              or                         True\n",
        "    True    False             or                         True\n",
        "    False   True              or                         True\n",
        "    False   False             or                         False\n",
        "\n",
        "\n",
        "    For not Boolean operator:\n",
        "\n",
        "not True is False\n",
        "not False is true"
      ],
      "metadata": {
        "id": "EnxrUWNODh-8"
      }
    },
    {
      "cell_type": "markdown",
      "source": [
        "4.\n",
        "What are the values of the following expressions?\n",
        "a.) (5 > 4) and (3 == 5)\n",
        "b.) not (5 > 4)\n",
        "c.) (5 > 4) or (3 == 5)\n",
        "d.) not ((5 > 4) or (3 == 5))\n",
        "e.) (True and True) and (True == False)\n",
        "f.) (not False) or (not True)\n",
        "\n",
        "Answer:\n",
        "\n",
        "a.) False\n",
        "b.) False\n",
        "c.) True\n",
        "d.) False\n",
        "e.) False\n",
        "f.) True"
      ],
      "metadata": {
        "id": "3t055mSyDiBO"
      }
    },
    {
      "cell_type": "markdown",
      "source": [
        "5.\n",
        "What are the six comparison operators?\n",
        "\n",
        "Answer:\n",
        "\n",
        "a) < (less than)\n",
        "b) <= (less than or equal to)\n",
        "c) == (equal to)\n",
        "d) > (greater than)\n",
        "e) >= (greater than or equal to)\n",
        "f) != (not equal to)"
      ],
      "metadata": {
        "id": "smD2GwMLDiGx"
      }
    },
    {
      "cell_type": "markdown",
      "source": [
        "6.\n",
        "How do you tell the difference between the equal to and assignment operators? Describe a condition and when you would use one.\n",
        "\n",
        "Answer:\n",
        "\n",
        "== is the equal to operator that compares two values and checks whether the two given values are equal or not and then evaluates to a Boolean value. If the compared values are equal, it returns True. Otherwise it returns False. On the other hand, = is the assignment operator that assigns a value to a variable.\n",
        "\n",
        "The use of both, the equal to operator and the assignment operator, can be seen in control flow statements."
      ],
      "metadata": {
        "id": "ftyVZgrkEF2h"
      }
    },
    {
      "cell_type": "markdown",
      "source": [
        "7.\n",
        "Identify the three blocks in this code:\n",
        "\n",
        "spam = 0\n",
        "if spam == 10:\n",
        "    print('eggs')\n",
        "    if spam > 5:\n",
        "        print('bacon')\n",
        "    else:\n",
        "        print('ham')\n",
        "    print('spam')\n",
        "print('spam')\n",
        "\n",
        "\n",
        "\n",
        "\n",
        "Answer:\n",
        "\n",
        "The three blocks are everything inside the if statement and the lines print('bacon') and print('ham'), i.e. \n",
        "\n",
        "print('eggs')\n",
        "if spam > 5:\n",
        "    print('bacon')\n",
        "else:\n",
        "    print('ham')\n",
        "print('spam')\n"
      ],
      "metadata": {
        "id": "tEfH4eZTEF5Q"
      }
    },
    {
      "cell_type": "code",
      "source": [
        "#8.Write code that prints Hello if 1 is stored in spam, prints Howdy if 2 is stored in spam, and prints Greetings! if anything else is stored in spam.\n",
        "\n",
        "#Answer:\n",
        "\n",
        "spam=int(input(\"Input any integer: \"))\n",
        "if spam == 1:\n",
        "    print('Hello')\n",
        "elif spam == 2:\n",
        "     print('Howdy')\n",
        "else:\n",
        "     print('Greetings!')"
      ],
      "metadata": {
        "colab": {
          "base_uri": "https://localhost:8080/"
        },
        "id": "a4frV1zLEa3R",
        "outputId": "d845bfad-b66b-49cd-82be-51680d3efa2b"
      },
      "execution_count": 3,
      "outputs": [
        {
          "output_type": "stream",
          "name": "stdout",
          "text": [
            "Input any integer: 5\n",
            "Greetings!\n"
          ]
        }
      ]
    },
    {
      "cell_type": "markdown",
      "source": [
        "9.\n",
        "If your programme is stuck in an endless loop, what keys you’ll press?\n",
        "\n",
        "Answer:\n",
        "\n",
        "If our program is stuck in an endless loop, we press CTRL-C to stop or interrupt the program.\n",
        "\n"
      ],
      "metadata": {
        "id": "yZJ0Ge-REF8T"
      }
    },
    {
      "cell_type": "markdown",
      "source": [
        "10.\n",
        "How can you tell the difference between break and continue?\n",
        "\n",
        "Answer:\n",
        "\n",
        "The break statement moves the execution outside and ends the execution to the end of the loop, whereas the continue statement moves the execution to the start of the loop."
      ],
      "metadata": {
        "id": "yNEbJFq3EGCD"
      }
    },
    {
      "cell_type": "markdown",
      "source": [
        "11.\n",
        "In a for loop, what is the difference between range(10), range(0, 10), and range(0, 10, 1)?\n",
        "\n",
        "Answer:\n",
        "\n",
        "They all return the same output. They return an object that produces a sequence of integers from 0 (lowerbound/start (inclusive)) to 10 (upperbound/stop (exclusive)) with step/jump size of +1. The only differences between them are as follows:\n",
        "\n",
        "range(10) - Upperbound is explicitly mentioned, but lowerbound=0 and step size = +1 by default.\n",
        "range(0, 10) - Both lowerbound and upperbound are clearly mentioned, but step size = +1 by default.\n",
        "range(0, 10, 1) - Lowerbound, upperbound, and step size are explicitly mentioned.\n",
        "\n"
      ],
      "metadata": {
        "id": "XUXUF6I3EGFA"
      }
    },
    {
      "cell_type": "code",
      "source": [
        "#12.Write a short program that prints the numbers 1 to 10 using a for loop. Then write an equivalent program that prints the numbers 1 to 10 using a while loop.\n",
        "\n",
        "#Answer:\n",
        "\n",
        "for i in range(1,11):\n",
        "    print(i)"
      ],
      "metadata": {
        "colab": {
          "base_uri": "https://localhost:8080/"
        },
        "id": "aJIrlRtCEvqY",
        "outputId": "9b4ab23c-5359-4775-a0e1-d25855aa4eeb"
      },
      "execution_count": 4,
      "outputs": [
        {
          "output_type": "stream",
          "name": "stdout",
          "text": [
            "1\n",
            "2\n",
            "3\n",
            "4\n",
            "5\n",
            "6\n",
            "7\n",
            "8\n",
            "9\n",
            "10\n"
          ]
        }
      ]
    },
    {
      "cell_type": "code",
      "source": [
        "i=1\n",
        "while i<11:\n",
        "    print(i)\n",
        "    i=i+1"
      ],
      "metadata": {
        "colab": {
          "base_uri": "https://localhost:8080/"
        },
        "id": "lxSOYnopE17h",
        "outputId": "4a6e3fb5-8cb8-480a-b254-cff6875598b9"
      },
      "execution_count": 5,
      "outputs": [
        {
          "output_type": "stream",
          "name": "stdout",
          "text": [
            "1\n",
            "2\n",
            "3\n",
            "4\n",
            "5\n",
            "6\n",
            "7\n",
            "8\n",
            "9\n",
            "10\n"
          ]
        }
      ]
    },
    {
      "cell_type": "markdown",
      "source": [
        "13.\n",
        "If you had a function named bacon() inside a module named spam, how would you call it after importing spam?\n",
        "\n",
        "Answer:\n",
        "\n",
        "This function could be called with spam.bacon()"
      ],
      "metadata": {
        "id": "6yjE5xJ1EGMp"
      }
    },
    {
      "cell_type": "code",
      "source": [
        ""
      ],
      "metadata": {
        "id": "apcBfpVeE6o9"
      },
      "execution_count": null,
      "outputs": []
    }
  ]
}