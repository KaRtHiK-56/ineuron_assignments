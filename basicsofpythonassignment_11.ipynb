{
 "cells": [
  {
   "cell_type": "markdown",
   "metadata": {},
   "source": [
    "# Questions\n",
    "1. Create an assert statement that throws an AssertionError if the variable spam is a negative\n",
    "integer.\n",
    "2. Write an assert statement that triggers an AssertionError if the variables eggs and bacon contain\n",
    "strings that are the same as each other, even if their cases are different (that is, &#39;hello&#39; and &#39;hello&#39; are\n",
    "considered the same, and &#39;goodbye&#39; and &#39;GOODbye&#39; are also considered the same).\n",
    "3. Create an assert statement that throws an AssertionError every time.\n",
    "4. What are the two lines that must be present in your software in order to call logging.debug()?\n",
    "5. What are the two lines that your program must have in order to have logging.debug() send a\n",
    "logging message to a file named programLog.txt?\n",
    "6. What are the five levels of logging?\n",
    "7. What line of code would you add to your software to disable all logging messages?\n",
    "8.Why is using logging messages better than using print() to display the same message?\n",
    "9. What are the differences between the Step Over, Step In, and Step Out buttons in the debugger?\n",
    "10.After you click Continue, when will the debugger stop ?\n",
    "11. What is the concept of a breakpoint?"
   ]
  },
  {
   "cell_type": "markdown",
   "metadata": {},
   "source": [
    "# Answers\n",
    "1. assert spam >= 10, 'The spam variable is less than 10.' \n",
    "2. Either assert eggs.lower() != bacon.lower() 'The eggs and bacon variables \n",
    "are the same!' or assert eggs.upper() != bacon.upper(), 'The eggs and \n",
    "bacon variables are the same!'\n",
    "3. assert False, 'This assertion always triggers.'\n",
    "4. To be able to call logging.debug(), you must have these two lines at the \n",
    "\n",
    "import logging\n",
    "logging.basicConfig(level=logging.DEBUG, format=' %(asctime)s - \n",
    "%(levelname)s - %(message)s')\n",
    "Answers to the Practice Questions 525\n",
    "5. To be able to send logging messages to a file named programLog.txt\n",
    "with logging.debug(), you must have these two lines at the start of \n",
    "your program:\n",
    "import logging\n",
    "logging.basicConfig(filename='programLog.txt', level=logging.DEBUG, \n",
    "format=' %(asctime)s - %(levelname)s - %(message)s')\n",
    "6. DEBUG, INFO, WARNING, ERROR, and CRITICAL\n",
    "7. logging.disable(logging.CRITICAL)\n",
    "8. You can disable logging messages without removing the logging func\u0002tion calls. You can selectively disable lower-level logging messages. You \n",
    "can create logging messages. Logging messages provides a timestamp.\n",
    "9. The Step In button will move the debugger into a function call. The \n",
    "Step Over button will quickly execute the function call without step\u0002ping into it. The Step Out button will quickly execute the rest of the \n",
    "code until it steps out of the function it currently is in.\n",
    "10. After you click Continue, the debugger will stop when it has reached \n",
    "the end of the program or a line with a breakpoint.\n",
    "11. A breakpoint is a setting on a line of code that causes the debugger to \n",
    "pause when the program execution reaches the line.\n",
    "12. To set a breakpoint in Mu, click the line number to make a red dot \n",
    "appear next to it."
   ]
  },
  {
   "cell_type": "code",
   "execution_count": null,
   "metadata": {},
   "outputs": [],
   "source": []
  }
 ],
 "metadata": {
  "kernelspec": {
   "display_name": "Python 3",
   "language": "python",
   "name": "python3"
  },
  "language_info": {
   "codemirror_mode": {
    "name": "ipython",
    "version": 3
   },
   "file_extension": ".py",
   "mimetype": "text/x-python",
   "name": "python",
   "nbconvert_exporter": "python",
   "pygments_lexer": "ipython3",
   "version": "3.7.4"
  }
 },
 "nbformat": 4,
 "nbformat_minor": 2
}
