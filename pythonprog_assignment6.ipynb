{
  "nbformat": 4,
  "nbformat_minor": 0,
  "metadata": {
    "colab": {
      "name": "pythonprog_assignment6.ipynb",
      "provenance": [],
      "collapsed_sections": []
    },
    "kernelspec": {
      "name": "python3",
      "display_name": "Python 3"
    },
    "language_info": {
      "name": "python"
    }
  },
  "cells": [
    {
      "cell_type": "code",
      "source": [
        "def FSUR(n):\n",
        "\n",
        "    if n <= 1:\n",
        "        return n\n",
        "    else:\n",
        "        return(FSUR(n-1) + FSUR(n-2))\n",
        "\n",
        "Number_Of_Terms = int(input(\"Enter number of terms for which you want to print Fibonacci sequence:  \"))\n",
        "\n",
        "if Number_Of_Terms <= 0:\n",
        "    print(\"Enter positive number of terms\")\n",
        "    \n",
        "else:\n",
        "    print(\"Fibonacci sequence for the first \", Number_Of_Terms, \" terms is: \")\n",
        "    \n",
        "for i in range(Number_Of_Terms):\n",
        "    print(FSUR(i))"
      ],
      "metadata": {
        "colab": {
          "base_uri": "https://localhost:8080/"
        },
        "id": "sBlHIs2jLWa4",
        "outputId": "99def9f7-9acc-406a-eb88-d933001877a0"
      },
      "execution_count": 35,
      "outputs": [
        {
          "output_type": "stream",
          "name": "stdout",
          "text": [
            "Enter number of terms for which you want to print Fibonacci sequence:  6\n",
            "Fibonacci sequence for the first  6  terms is: \n",
            "0\n",
            "1\n",
            "1\n",
            "2\n",
            "3\n",
            "5\n"
          ]
        }
      ]
    },
    {
      "cell_type": "code",
      "source": [
        "def FNUR(n):\n",
        "\n",
        "    if n == 0:\n",
        "        return 1\n",
        "    else:\n",
        "        return((FNUR(n-1)) * n)\n",
        "\n",
        "Number_Of_Terms = int(input(\"Enter the  number for which you have to find its factorial:   \"))\n",
        "\n",
        "if Number_Of_Terms < 0:\n",
        "    print(\"Warning !!! factorial does not exist for negative numbers\")\n",
        "    \n",
        "else:\n",
        "    print(\"The factorial of \", Number_Of_Terms, \"is \", FNUR(Number_Of_Terms))"
      ],
      "metadata": {
        "colab": {
          "base_uri": "https://localhost:8080/"
        },
        "id": "uI75p7vlLWgv",
        "outputId": "3be9e259-ff3b-43a6-8ff5-b8f131932f82"
      },
      "execution_count": 36,
      "outputs": [
        {
          "output_type": "stream",
          "name": "stdout",
          "text": [
            "Enter the  number for which you have to find its factorial:   6\n",
            "The factorial of  6 is  720\n"
          ]
        }
      ]
    },
    {
      "cell_type": "code",
      "source": [
        "def BMI(Weight, Height):\n",
        "\n",
        "    \n",
        "    bmi = Weight/(Height**2)\n",
        "    print(\"The Body Mass Index for the given Weight and Height is \", bmi)\n",
        "\n",
        "Weight = float(input(\"Enter weight in kilograms:    \"))\n",
        "Height = float(input(\"Enter height in metres:    \"))\n",
        "\n",
        "BMI(Weight, Height)"
      ],
      "metadata": {
        "colab": {
          "base_uri": "https://localhost:8080/"
        },
        "id": "wYRN2tSyLdwH",
        "outputId": "6033d0ee-fb91-463e-cae4-66fa26288a4a"
      },
      "execution_count": 37,
      "outputs": [
        {
          "output_type": "stream",
          "name": "stdout",
          "text": [
            "Enter weight in kilograms:    65\n",
            "Enter height in metres:    1.74\n",
            "The Body Mass Index for the given Weight and Height is  21.469150482230148\n"
          ]
        }
      ]
    },
    {
      "cell_type": "code",
      "source": [
        "def NL(Number):\n",
        "\n",
        "    import math\n",
        "    \n",
        "    if Number > 0:\n",
        "        print(\"The natural logarithm of \",Number, \" is \", math.log(Number))\n",
        "        \n",
        "    else:\n",
        "        print(\"The natural logarithm for any number less than or equal to zero is undefined.\")\n",
        "\n",
        "Number = float(input(\"Enter the number for which you want its natural logarithm:  \"))\n",
        "\n",
        "NL(Number)"
      ],
      "metadata": {
        "colab": {
          "base_uri": "https://localhost:8080/"
        },
        "id": "x1b0KBKyLj9E",
        "outputId": "d48ad419-5f23-429b-8a70-868b1beba675"
      },
      "execution_count": 38,
      "outputs": [
        {
          "output_type": "stream",
          "name": "stdout",
          "text": [
            "Enter the number for which you want its natural logarithm:  6\n",
            "The natural logarithm of  6.0  is  1.791759469228055\n"
          ]
        }
      ]
    },
    {
      "cell_type": "code",
      "source": [
        "def CUBE(x):\n",
        "\n",
        "     \n",
        "    if x == 1:\n",
        "        return 1\n",
        "    else:\n",
        "        return (CUBE(x-1) + (x**3))\n",
        "\n",
        "        \n",
        "Number_Of_Terms = int(input(\"Enter the natural number upto which you want to find sum of cubes:  \"))\n",
        "\n",
        "if Number_Of_Terms < 1:\n",
        "        print(\"Sorry! given input is not a natural number\")\n",
        "        \n",
        "elif Number_Of_Terms == 1:\n",
        "    print(\"If you want to find sum, give input any natural number > 1\")\n",
        "    \n",
        "else:\n",
        "    print(\"The sum of cube of first\",Number_Of_Terms, \"natural numbers is \", CUBE(Number_Of_Terms))"
      ],
      "metadata": {
        "colab": {
          "base_uri": "https://localhost:8080/"
        },
        "id": "wkrrtihILtVN",
        "outputId": "fa27b093-99ad-45cc-a63a-c888a5d54de9"
      },
      "execution_count": 39,
      "outputs": [
        {
          "output_type": "stream",
          "name": "stdout",
          "text": [
            "Enter the natural number upto which you want to find sum of cubes:  6\n",
            "The sum of cube of first 6 natural numbers is  441\n"
          ]
        }
      ]
    },
    {
      "cell_type": "code",
      "source": [
        ""
      ],
      "metadata": {
        "id": "jQw41nfsLznM"
      },
      "execution_count": null,
      "outputs": []
    }
  ]
}