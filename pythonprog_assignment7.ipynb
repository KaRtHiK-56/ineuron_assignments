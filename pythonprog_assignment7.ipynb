{
  "nbformat": 4,
  "nbformat_minor": 0,
  "metadata": {
    "colab": {
      "name": "pythonprog_assignment7.ipynb",
      "provenance": [],
      "collapsed_sections": []
    },
    "kernelspec": {
      "name": "python3",
      "display_name": "Python 3"
    },
    "language_info": {
      "name": "python"
    }
  },
  "cells": [
    {
      "cell_type": "code",
      "source": [
        "def SumOfArray():\n",
        "    input_array = eval(input(\"Enter the Array for which you want to find the sum of its elements: \"))\n",
        "    print()\n",
        "    print(f'The sum of the elements in the array {input_array} is {sum(input_array)}')\n",
        "\n",
        "SumOfArray()"
      ],
      "metadata": {
        "colab": {
          "base_uri": "https://localhost:8080/"
        },
        "id": "koD7CKyOMXf9",
        "outputId": "6b7873d4-3dbe-4e6b-fb19-c5dabdb69753"
      },
      "execution_count": 40,
      "outputs": [
        {
          "output_type": "stream",
          "name": "stdout",
          "text": [
            "Enter the Array for which you want to find the sum of its elements:  [1, 2, 3, 4, 5, 6, 7, 8, 9, 10]\n",
            "\n",
            "The sum of the elements in the array [1, 2, 3, 4, 5, 6, 7, 8, 9, 10] is 55\n"
          ]
        }
      ]
    },
    {
      "cell_type": "code",
      "source": [
        "def Largest_Element():\n",
        "    input_array = eval(input(\"Enter the Array for which you want to find the largest of its elements: \"))\n",
        "    print()\n",
        "    print(f'The largest of the elements in the array {input_array} is {max(input_array)}')\n",
        "\n",
        "Largest_Element()"
      ],
      "metadata": {
        "colab": {
          "base_uri": "https://localhost:8080/"
        },
        "id": "nSz95zu-MZrv",
        "outputId": "cdd7c2e0-2685-4d59-f4a6-5048dfe3413c"
      },
      "execution_count": 41,
      "outputs": [
        {
          "output_type": "stream",
          "name": "stdout",
          "text": [
            "Enter the Array for which you want to find the largest of its elements: [1, 2, 3, 4, 5, 6, 7, 8, 9, 10]\n",
            "\n",
            "The largest of the elements in the array [1, 2, 3, 4, 5, 6, 7, 8, 9, 10] is 10\n"
          ]
        }
      ]
    },
    {
      "cell_type": "code",
      "source": [
        "def array_Rotation():\n",
        "    input_array = eval(input(\"Enter the Array you want to rotate: \"))\n",
        "    print()\n",
        "    print(f'The array {input_array} after a rotaion is {(input_array)[::-1]}')\n",
        "\n",
        "array_Rotation()"
      ],
      "metadata": {
        "colab": {
          "base_uri": "https://localhost:8080/"
        },
        "id": "q4dZtazXMfOF",
        "outputId": "3107440b-f297-4961-e802-b37206f4d4e5"
      },
      "execution_count": 42,
      "outputs": [
        {
          "output_type": "stream",
          "name": "stdout",
          "text": [
            "Enter the Array you want to rotate: [1, 2, 3, 4, 5, 6, 7, 8, 9, 10]\n",
            "\n",
            "The array [1, 2, 3, 4, 5, 6, 7, 8, 9, 10] after a rotaion is [10, 9, 8, 7, 6, 5, 4, 3, 2, 1]\n"
          ]
        }
      ]
    },
    {
      "cell_type": "code",
      "source": [
        "def array_split_merger():\n",
        "    input_Array = eval(input(\"Enter the array you want to split:  \"))\n",
        "    print()\n",
        "    index_no = int(input(\"Enter the number of elements you want to split from the array \\nand merge it to the end of the original array: \"))\n",
        "    print()\n",
        "    output = input_Array[index_no:len(input_Array)]+ input_Array[:index_no]\n",
        "    print(f\"The array {input_Array} after splitting and then merging is {output}\")\n",
        "    \n",
        "array_split_merger()"
      ],
      "metadata": {
        "colab": {
          "base_uri": "https://localhost:8080/"
        },
        "id": "kxzwd96xMl1F",
        "outputId": "9de84932-9c0b-4a75-d5b9-d7a87dc6cad9"
      },
      "execution_count": 43,
      "outputs": [
        {
          "output_type": "stream",
          "name": "stdout",
          "text": [
            "Enter the array you want to split:  [1, 2, 3, 4, 5, 6, 7, 8, 9, 10]\n",
            "\n",
            "Enter the number of elements you want to split from the array \n",
            "and merge it to the end of the original array: 5\n",
            "\n",
            "The array [1, 2, 3, 4, 5, 6, 7, 8, 9, 10] after splitting and then merging is [6, 7, 8, 9, 10, 1, 2, 3, 4, 5]\n"
          ]
        }
      ]
    },
    {
      "cell_type": "code",
      "source": [
        "def monotonic_Checker():\n",
        "    input_Array = eval(input(\"Enter the Array you want to check if it is monotonic or not: \"))\n",
        "    print()\n",
        "    if(all(input_Array[i] <= input_Array[i+1] for i in range(len(input_Array)-1)) or all(input_Array[i] >= input_Array[i+1] for i in range(len(input_Array)-1))):\n",
        "        print(f'Array {input_Array} is Monotonic')\n",
        "    else:\n",
        "        print(f'Array {input_Array} is not Monotonic')\n",
        "\n",
        "monotonic_Checker()\n"
      ],
      "metadata": {
        "colab": {
          "base_uri": "https://localhost:8080/"
        },
        "id": "3db_nILkMqm6",
        "outputId": "dd7b4046-f30d-457c-dc38-883bb9231563"
      },
      "execution_count": 45,
      "outputs": [
        {
          "output_type": "stream",
          "name": "stdout",
          "text": [
            "Enter the Array you want to check if it is monotonic or not: [1, 2, 3, 4, 5, 6, 7, 8, 9, 10]\n",
            "\n",
            "Array [1, 2, 3, 4, 5, 6, 7, 8, 9, 10] is Monotonic\n"
          ]
        }
      ]
    },
    {
      "cell_type": "code",
      "source": [
        ""
      ],
      "metadata": {
        "id": "GjKmw1rMMzep"
      },
      "execution_count": null,
      "outputs": []
    }
  ]
}