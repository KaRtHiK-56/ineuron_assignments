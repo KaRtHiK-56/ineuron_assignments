{
  "nbformat": 4,
  "nbformat_minor": 0,
  "metadata": {
    "colab": {
      "provenance": []
    },
    "kernelspec": {
      "name": "python3",
      "display_name": "Python 3"
    },
    "language_info": {
      "name": "python"
    }
  },
  "cells": [
    {
      "cell_type": "markdown",
      "source": [
        "#1.What does one mean by the term &quot;machine learning&quot;?\n",
        "\n",
        "Machine learning is a subset of AI , which is a field of study which gathers information from the data and learns from it gaining experience , aiming to produce generalised model.\n",
        "\n",
        "1. Gathers information from the data \n",
        "2. learns without expilicitly being programmed \n",
        "3. A Ml is said to learn from the data with a Experiencce(E) with realted to a Task(T) with a performance (p), where the Performance(P) of the task (T) improves the Experience(E) of the machine."
      ],
      "metadata": {
        "id": "rmxp_V5FJse1"
      }
    },
    {
      "cell_type": "markdown",
      "source": [
        "#2.Can you think of 4 distinct types of issues where it shines?\n",
        "1.Supervised learning \n",
        "\n",
        " Classification problems --> spam detection , cancer analysis\n",
        "\n",
        " Regression problems --> fare prediction \n",
        "\n",
        "2. Unsupervised learning\n",
        "\n",
        "  Clustering --> customer segmentation\n",
        "  \n",
        "  Anamoly detection --> outlier detection , fraudlent detection \n",
        "\n",
        "3. Reinforcement learning\n",
        "\n",
        "  Self learning cars , AI based games\n"
      ],
      "metadata": {
        "id": "9j-G72TgMdsM"
      }
    },
    {
      "cell_type": "markdown",
      "source": [
        "#3.What is a labeled training set, and how does it work?\n",
        "\n",
        "Labeled training set comes under supervised machine learning algorithm, where the datas are labeled and the training set is a data which is indepedent data is splitted after the target variable is identified. it is used to train the model to predict the test data."
      ],
      "metadata": {
        "id": "47IGjIqGOAX4"
      }
    },
    {
      "cell_type": "markdown",
      "source": [
        "#4.What are the two most important tasks that are supervised?\n",
        "1. Classification --> Data is Discrete \n",
        "2. Regression --> Data is Continious "
      ],
      "metadata": {
        "id": "-RyabxVAO4gF"
      }
    },
    {
      "cell_type": "markdown",
      "source": [
        "#5.Can you think of four examples of unsupervised tasks?\n",
        "1. Clustering\n",
        "2. Anamoly Detection \n",
        "3. Association ruling\n",
        "4. Dimentionality reeduction"
      ],
      "metadata": {
        "id": "9Ur88HUNPl5z"
      }
    },
    {
      "cell_type": "markdown",
      "source": [
        "#6.State the machine learning model that would be best to make a robot walk through various unfamiliar terrains?\n",
        "\n",
        "Reinforcement Learning "
      ],
      "metadata": {
        "id": "IBv0FXFCP7g5"
      }
    },
    {
      "cell_type": "markdown",
      "source": [
        "#7.Which algorithm will you use to divide your customers into different groups?\n",
        "\n",
        "Unsupervised Learning --> Clustering "
      ],
      "metadata": {
        "id": "fuxsfPbkQK66"
      }
    },
    {
      "cell_type": "markdown",
      "source": [
        "#8.Will you consider the problem of spam detection to be a supervised or unsupervised learning problem?\n",
        "\n",
        "Spam detection is a supervised classification machine learning algorithm as it need to know which mail is spam and not , which is achieveable through labeled training and test data whaich comes under supervised learning."
      ],
      "metadata": {
        "id": "-WUSihJ4QWB4"
      }
    },
    {
      "cell_type": "markdown",
      "source": [
        "# 9.What is the concept of an online learning system?\n",
        "\n",
        "Online learning system is a learning system in which the machine learns continously, as data is given in small streams continuously improving  performance by processing new input in real or near-real time"
      ],
      "metadata": {
        "id": "P8uvca-5QWEp"
      }
    },
    {
      "cell_type": "markdown",
      "source": [
        "#10.What is out-of-core learning, and how does it differ from core learning?\n",
        "\n",
        "out-of-core learning is a learning which cannot fit into the memory of a computer but can learn from online"
      ],
      "metadata": {
        "id": "eE8ISmbAQWGr"
      }
    },
    {
      "cell_type": "markdown",
      "source": [
        "#11.What kind of learning algorithm makes predictions using a similarity measure?\n",
        "\n",
        "Instance based algorithm"
      ],
      "metadata": {
        "id": "BMB3xlwNSAhU"
      }
    },
    {
      "cell_type": "markdown",
      "source": [
        "#12.What&#39;s the difference between a model parameter and a hyperparameter in a learning algorithm?\n",
        "\n",
        "Model parameter determines how a model will predict given a new instance. Model usually has more than one parameter (slope of a linear model). Hyperparameter is a parameter for the learning algorithm, not of a model."
      ],
      "metadata": {
        "id": "ijtvH8mtSAj7"
      }
    },
    {
      "cell_type": "markdown",
      "source": [
        "#13.What are the criteria that model-based learning algorithms look for? What is the most popular method they use to achieve success? What method do they use to make predictions?\n",
        "\n",
        "Model based learning algorithm search for the optimal value of parameters in a model that will give the best results for the new instances. We often use a cost function or similar to determine what the parameter value has to be in order to minimize the function. The model makes prediction by using the value of the new instance and the parameters in its function."
      ],
      "metadata": {
        "id": "qsc8RsxASAmk"
      }
    },
    {
      "cell_type": "markdown",
      "source": [
        "# 14.Can you name four of the most important Machine Learning challenges?\n",
        "\n",
        "1. Overfitting the Data (using a model too complicated)\n",
        "2. Underfitting the data (using a simple model)\n",
        "3. Lacking in Data\n",
        "4. Non Representative Data."
      ],
      "metadata": {
        "id": "rmHWcWYRSApd"
      }
    },
    {
      "cell_type": "markdown",
      "source": [
        "# 15.What happens if the model performs well on the training data but fails to generalize the results to new situations? Can you think of three different options?\n",
        "\n",
        "This is known as low bais high variance \n",
        "\n",
        "1. Get more data\n",
        "2. Implement a simpler model\n",
        "3. Eliminate outliers or noise from the existing data set."
      ],
      "metadata": {
        "id": "VDS8TECBSAsE"
      }
    },
    {
      "cell_type": "markdown",
      "source": [
        "# 16.What exactly is a test set, and why would you need one?\n",
        "\n",
        "Test set is used to know the output of the models output how it performs ,which gained information from the training data.it is used to know how good or bad the model performs."
      ],
      "metadata": {
        "id": "wTWlbxxeSAuk"
      }
    },
    {
      "cell_type": "markdown",
      "source": [
        "# 17.What is a validation set&#39;s purpose?\n",
        "\n",
        "Validation set is used to select the parameters of the model , making the model more generalised."
      ],
      "metadata": {
        "id": "N8hvhjmaSAxn"
      }
    },
    {
      "cell_type": "markdown",
      "source": [
        "#18.What precisely is the train-dev kit, when will you need it, how do you put it to use?\n",
        "\n",
        "Cross-validation is a tool to compare models without needing a separate validation set. It is preferred over validation set because we can save from breaking of part of the training set to create a validation set, as having more data is valuable regardless."
      ],
      "metadata": {
        "id": "4k7BzcPzSA0E"
      }
    },
    {
      "cell_type": "markdown",
      "source": [
        "# 19.What could go wrong if you use the test set to tune hyperparameters?\n",
        "\n",
        "If you tune hyperparameters using the test sets, then it may not perform well on the out-of-sample data because the model is tuned just for that specific set."
      ],
      "metadata": {
        "id": "2JUb1x3bSA27"
      }
    },
    {
      "cell_type": "code",
      "source": [],
      "metadata": {
        "id": "9NQe5cS4Z9wR"
      },
      "execution_count": null,
      "outputs": []
    }
  ]
}