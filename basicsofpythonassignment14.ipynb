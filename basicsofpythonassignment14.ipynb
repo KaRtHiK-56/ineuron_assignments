{
  "nbformat": 4,
  "nbformat_minor": 0,
  "metadata": {
    "colab": {
      "name": "basicsofpythonassignment14.ipynb",
      "provenance": []
    },
    "kernelspec": {
      "name": "python3",
      "display_name": "Python 3"
    },
    "language_info": {
      "name": "python"
    }
  },
  "cells": [
    {
      "cell_type": "markdown",
      "source": [
        "1. What does RGBA stand for?\n",
        "Answer:\n",
        "RGBA stands for red, green, blue, and alpha.\n",
        "\n",
        "An RGBA value is a tuple of 4 integers, each ranging from 0 to 255. The four integers correspond to the amount of red, \n",
        "green, blue, and alpha (transparency) in the color ."
      ],
      "metadata": {
        "id": "zG6nERRWF8f2"
      }
    },
    {
      "cell_type": "markdown",
      "source": [
        "2. From the Pillow module, how do you get the RGBA value of any images?\n",
        "Answer:\n",
        "ImageColor.getcolor() gives rgba value of any image."
      ],
      "metadata": {
        "id": "fZ2hrNkPF--m"
      }
    },
    {
      "cell_type": "markdown",
      "source": [
        "3. What is a box tuple, and how does it work?\n",
        "Answer:\n",
        "A box tuple is a tuple value of four integers: the left-edge x-coordinate, the top-edge y-coordinate,the width, and the height, respectively."
      ],
      "metadata": {
        "id": "RjKgs3xeF_A9"
      }
    },
    {
      "cell_type": "code",
      "source": [
        "#4. Use your image and load in notebook then, How can you find out the width and height of an Image object?\n",
        "#Answer:\n",
        "\n",
        "from PIL import Image\n",
        "pic = Image.open('v6.jpg')\n",
        "print(f'Width, Height -> {pic.size}') "
      ],
      "metadata": {
        "colab": {
          "base_uri": "https://localhost:8080/"
        },
        "id": "MPOxsUdMGXyF",
        "outputId": "ff7a4927-5bd0-479d-d577-ad5d9bfcf483"
      },
      "execution_count": 7,
      "outputs": [
        {
          "output_type": "stream",
          "name": "stdout",
          "text": [
            "Width, Height -> (299, 168)\n"
          ]
        }
      ]
    },
    {
      "cell_type": "markdown",
      "source": [
        "5. What method would you call to get Image object for a 100×100 image, excluding the lower-left quarter of it?\n",
        "Answer:\n",
        "ImageObject.crop((0, 50, 50, 50)) method can be called to get Image object for a 100×100 image, excluding the lower-left quarter of it."
      ],
      "metadata": {
        "id": "ZtWxLmTAF_Gd"
      }
    },
    {
      "cell_type": "markdown",
      "source": [
        "6. After making changes to an Image object, how could you save it as an image file?\n",
        "Answer:\n",
        "By Calling the imageObj.save('new_filename.png') method of the Image object, one can save it as an image file."
      ],
      "metadata": {
        "id": "PGFqZOyRF_IV"
      }
    },
    {
      "cell_type": "markdown",
      "source": [
        "7. What module contains Pillow’s shape-drawing code?\n",
        "Answer:\n",
        "The ImageDraw module contains code to draw on images and Pillow’s shape-drawing code too."
      ],
      "metadata": {
        "id": "JLT5YmkqF_Ke"
      }
    },
    {
      "cell_type": "markdown",
      "source": [
        "8. Image objects do not have drawing methods. What kind of object does? How do you get this kind of object?\n",
        "\n",
        "Answer:\n",
        "ImageDraw objects have shape-drawing methods such as point(), line(), orrectangle().They are returned by passing the Image object to the ImageDraw.Draw() function."
      ],
      "metadata": {
        "id": "isMT4FqpF_Mz"
      }
    },
    {
      "cell_type": "code",
      "source": [
        ""
      ],
      "metadata": {
        "id": "6Bi2OhZvGozo"
      },
      "execution_count": null,
      "outputs": []
    }
  ]
}