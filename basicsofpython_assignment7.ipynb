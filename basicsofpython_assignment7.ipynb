{
 "cells": [
  {
   "cell_type": "code",
   "execution_count": 1,
   "metadata": {},
   "outputs": [
    {
     "ename": "SyntaxError",
     "evalue": "invalid syntax (<ipython-input-1-4cfae1819e99>, line 5)",
     "output_type": "error",
     "traceback": [
      "\u001b[1;36m  File \u001b[1;32m\"<ipython-input-1-4cfae1819e99>\"\u001b[1;36m, line \u001b[1;32m5\u001b[0m\n\u001b[1;33m    5. In the regex which created from the r&#39;(\\d\\d\\d)-(\\d\\d\\d-\\d\\d\\d\\d)&#39;, what does group zero cover?\u001b[0m\n\u001b[1;37m        ^\u001b[0m\n\u001b[1;31mSyntaxError\u001b[0m\u001b[1;31m:\u001b[0m invalid syntax\n"
     ]
    }
   ],
   "source": [
    "1. What is the name of the feature responsible for generating Regex objects?\n",
    "2. Why do raw strings often appear in Regex objects?\n",
    "3. What is the return value of the search() method?\n",
    "4. From a Match item, how do you get the actual strings that match the pattern?\n",
    "5. In the regex which created from the r&#39;(\\d\\d\\d)-(\\d\\d\\d-\\d\\d\\d\\d)&#39;, what does group zero cover?\n",
    "Group 2? Group 1?\n",
    "6. In standard expression syntax, parentheses and intervals have distinct meanings. How can you tell\n",
    "a regex that you want it to fit real parentheses and periods?\n",
    "7. The findall() method returns a string list or a list of string tuples. What causes it to return one of\n",
    "the two options?\n",
    "8. In standard expressions, what does the | character mean?\n",
    "9. In regular expressions, what does the character stand for?\n",
    "10.In regular expressions, what is the difference between the + and * characters?\n",
    "11. What is the difference between {4} and {4,5} in regular expression?\n",
    "12. What do you mean by the \\d, \\w, and \\s shorthand character classes signify in regular\n",
    "expressions?\n",
    "13. What do means by \\D, \\W, and \\S shorthand character classes signify in regular expressions?\n",
    "14. What is the difference between .*? and .*?\n",
    "15. What is the syntax for matching both numbers and lowercase letters with a character class?\n",
    "16. What is the procedure for making a normal expression in regax case insensitive?\n",
    "17. What does the . character normally match? What does it match if re.DOTALL is passed as 2nd\n",
    "argument in re.compile()?\n",
    "18. If numReg = re.compile(r&#39;\\d+&#39;), what will numRegex.sub(&#39;X&#39;, &#39;11 drummers, 10 pipers, five rings, 4\n",
    "hen&#39;) return?\n",
    "19. What does passing re.VERBOSE as the 2nd argument to re.compile() allow to do?\n",
    "20. How would you write a regex that match a number with comma for every three digits? It must\n",
    "match the given following:\n",
    "&#39;42&#39;\n",
    "&#39;1,234&#39;\n",
    "&#39;6,368,745&#39;\n",
    "\n",
    "but not the following:\n",
    "&#39;12,34,567&#39; (which has only two digits between the commas)\n",
    "&#39;1234&#39; (which lacks commas)\n",
    "21. How would you write a regex that matches the full name of someone whose last name is\n",
    "Watanabe? You can assume that the first name that comes before it will always be one word that\n",
    "begins with a capital letter. The regex must match the following:\n",
    "&#39;Haruto Watanabe&#39;\n",
    "&#39;Alice Watanabe&#39;\n",
    "&#39;RoboCop Watanabe&#39;\n",
    "but not the following:\n",
    "&#39;haruto Watanabe&#39; (where the first name is not capitalized)\n",
    "&#39;Mr. Watanabe&#39; (where the preceding word has a nonletter character)\n",
    "&#39;Watanabe&#39; (which has no first name)\n",
    "&#39;Haruto watanabe&#39; (where Watanabe is not capitalized)\n",
    "22. How would you write a regex that matches a sentence where the first word is either Alice, Bob,\n",
    "or Carol; the second word is either eats, pets, or throws; the third word is apples, cats, or baseballs;\n",
    "and the sentence ends with a period? This regex should be case-insensitive. It must match the\n",
    "following:\n",
    "&#39;Alice eats apples.&#39;\n",
    "&#39;Bob pets cats.&#39;\n",
    "&#39;Carol throws baseballs.&#39;\n",
    "&#39;Alice throws Apples.&#39;\n",
    "&#39;BOB EATS CATS.&#39;\n",
    "but not the following:\n",
    "&#39;RoboCop eats apples.&#39;\n",
    "&#39;ALICE THROWS FOOTBALLS.&#39;\n",
    "&#39;Carol eats 7 cats.&#39;"
   ]
  },
  {
   "cell_type": "markdown",
   "metadata": {},
   "source": [
    "1. The re.compile() function returns Regex objects.\n",
    "2. Raw strings are used so that backslashes do not have to be escaped.\n",
    "3. The search() method returns Match objects.\n",
    "4. The group() method returns strings of the matched text.\n",
    "5. Group 0 is the entire match, group 1 covers the first set of parentheses, and group 2 covers the second set of parentheses.\n",
    "6. Periods and parentheses can be escaped with a backslash: \\., \\(, and \\).\n",
    "7. If the regex has no groups, a list of strings is returned. If the regex has groups, a list of tuples of strings is returned.\n",
    "8. The | character signifies matching “either, or” between two groups.\n",
    "9. The ? character can either mean “match zero or one of the preceding group” or be used to signify non-greedy matching.\n",
    "10. The + matches one or more. The * matches zero or more.\n",
    "11. The {3} matches exactly three instances of the preceding group. The {3,5} matches between three and five instances.\n",
    "12. The \\d, \\w, and \\s shorthand character classes match a single digit, word, or space character, respectively.\n",
    "13. The \\D, \\W, and \\S shorthand character classes match a single character that is not a digit, word, or space character, respectively\n",
    "14. The .* performs a greedy match, and the .*? performs a non-greedy match.\n",
    "15. Either [0-9a-z] or [a-z0-9]\n",
    "16. Passing re.I or re.IGNORECASE as the second argument to re.compile() will make the matching case insensitive. \n",
    "17. The . character normally matches any character except the newline character. If re.DOTALL is passed as the second argument to re.compile(), then the dot will also match newline characters.\n",
    "18. The sub() call will return the string 'X drummers, X pipers, five rings, X hens'.\n",
    "19. The re.VERBOSE argument allows you to add whitespace and comments to the string passed to re.compile().\n",
    "20. re.compile(r'^\\d{1,3}(,\\d{3})*$') will create this regex, but other regex strings can produce a similar regular expression.\n",
    "21. re.compile(r'[A-Z][a-z]*\\sWatanabe')\n",
    "22. re.compile(r'(Alice|Bob|Carol)\\s(eats|pets|throws)\\s(apples|cats|baseballs)\\.', re.IGNORECASE)"
   ]
  },
  {
   "cell_type": "code",
   "execution_count": null,
   "metadata": {},
   "outputs": [],
   "source": []
  }
 ],
 "metadata": {
  "kernelspec": {
   "display_name": "Python 3",
   "language": "python",
   "name": "python3"
  },
  "language_info": {
   "codemirror_mode": {
    "name": "ipython",
    "version": 3
   },
   "file_extension": ".py",
   "mimetype": "text/x-python",
   "name": "python",
   "nbconvert_exporter": "python",
   "pygments_lexer": "ipython3",
   "version": "3.7.4"
  }
 },
 "nbformat": 4,
 "nbformat_minor": 2
}
