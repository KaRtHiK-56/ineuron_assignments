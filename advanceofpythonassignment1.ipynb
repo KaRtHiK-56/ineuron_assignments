{
  "nbformat": 4,
  "nbformat_minor": 0,
  "metadata": {
    "colab": {
      "name": "advanceofpythonassignment1.ipynb",
      "provenance": [],
      "collapsed_sections": []
    },
    "kernelspec": {
      "name": "python3",
      "display_name": "Python 3"
    },
    "language_info": {
      "name": "python"
    }
  },
  "cells": [
    {
      "cell_type": "markdown",
      "source": [
        "1.What is the purpose of Python's OOP?\n",
        "\n",
        "Answer:\n",
        "Object-oriented programming is a programming paradigm that provides a means of structuring programs so that properties and behaviors are bundled into individual objects\n",
        "\n",
        "In Python, object-oriented Programming (OOPs) uses objects and classes in programming.\n",
        "It aims to implement real-world entities like inheritance, polymorphisms, encapsulation, etc. in the programming.\n",
        "The main concept of OOPs is to bind the data and the functions that work on that together as a single unit so that no other part of the code can access this data.\n",
        "\n",
        "2.Where does an inheritance search look for an attribute?\n",
        "\n",
        "Answer:\n",
        "Inheritance searche looks for an attribute in an upward tree of attributes. It first searches for the attribute in its instance and then looks in the class it is generated from, to all super classes listed in its class header.\n",
        "\n",
        "3.How do you distinguish between a class object and an instance object?\n",
        "\n",
        "Answer:\n",
        "The differences between a class object and an instance object are:\n",
        "\n",
        "Class is a template for creating objects whereas object is an instance of class\n",
        "Seperate memory is allocated for each object whenever an object is created. but for a class this does not happen.\n",
        "A Class is created once. Many objects are created using a class.\n",
        "As Classes have no allocated memory, they can't be manipulated, but objects can be manipulated.\n",
        "class object is written as like a class name with paranthesis at right side an object at left side.and instance variable is initalized by self.instance_variable.\n",
        "\n",
        "4.What makes the first argument in a class’s method function special?\n",
        "\n",
        "Answer:\n",
        "The the first argument in a class’s method function is nothing but a pointer by the help of which we can access the attributes and methods of the class in python. It binds the attributes with the given arguments.\n",
        "\n",
        "5.What is the purpose of the init method?\n",
        "\n",
        "Answer:\n",
        "init is a reseved method in python classes. It serves the role of a constructor in object oriented terminology. This method is called when an object is created from a class and it allows the class to initialize the attributes of the class.\n",
        "\n",
        "6.What is the process for creating a class instance?\n",
        "\n",
        "Answer:\n",
        "To create instances of a class,\n",
        "\n",
        "We create a class\n",
        "We call the class using class name and assign it to a variable (object variable)\n",
        "We pass in whatever arguments itsinit method accepts\n",
        "7.What is the process for creating a class?\n",
        "\n",
        "Answer:\n",
        "class keyword is used to created a class in python. The syntax to create a class in python is class <classname>:\n",
        "\n",
        "Class will have doc string.\n",
        "Class should have at least one statements.\n",
        "\n",
        "8.How would you define the superclasses of a class?\n",
        "\n",
        "Answer:\n",
        "Superclass/Parent class is given as a arugment to the child class .\n",
        "\n",
        "E.g. class Employee(Person): Here child class Employee inherits attributes and methods from Superclass/ParentPerson"
      ],
      "metadata": {
        "id": "0fsN5kmKJUK6"
      }
    },
    {
      "cell_type": "code",
      "source": [
        ""
      ],
      "metadata": {
        "id": "YPHq-2ChJjR5"
      },
      "execution_count": null,
      "outputs": []
    }
  ]
}