{
  "nbformat": 4,
  "nbformat_minor": 0,
  "metadata": {
    "colab": {
      "name": "basicsofpythonassignment15.ipynb",
      "provenance": [],
      "collapsed_sections": []
    },
    "kernelspec": {
      "name": "python3",
      "display_name": "Python 3"
    },
    "language_info": {
      "name": "python"
    }
  },
  "cells": [
    {
      "cell_type": "code",
      "source": [
        "#1.How many seconds are in an hour? Use the interactive interpreter as a calculator and multiply the number of \n",
        "#seconds in a minute (60) by the number of minutes in an hour (also 60).\n",
        "\n",
        "#Answer:\n",
        "\n",
        "Minutes_Per_Hour = 60\n",
        "Seconds_Per_Minute = 60\n",
        "\n",
        "Minutes_Per_Hour * Seconds_Per_Minute"
      ],
      "metadata": {
        "colab": {
          "base_uri": "https://localhost:8080/"
        },
        "id": "TUzcz49RG391",
        "outputId": "b7ed8063-a3d3-4a88-f67e-85d881ace65e"
      },
      "execution_count": 8,
      "outputs": [
        {
          "output_type": "execute_result",
          "data": {
            "text/plain": [
              "3600"
            ]
          },
          "metadata": {},
          "execution_count": 8
        }
      ]
    },
    {
      "cell_type": "markdown",
      "source": [
        "2.\n",
        "Assign the result from the previous task (seconds in an hour) to a variable called seconds_per_hour.\n",
        "\n",
        "Answer:\n",
        "\n",
        "Seconds_Per_Hour = 3600"
      ],
      "metadata": {
        "id": "5j5D5MTUGxbM"
      }
    },
    {
      "cell_type": "code",
      "source": [
        "#3.How many seconds do you think there are in a day? Make use of the variables seconds per hour and minutes per hour.\n",
        "\n",
        "#Answer:\n",
        "\n",
        "Hours_Per_Day = 24\n",
        "Seconds_Per_Hour = 3600\n",
        "Seconds_Per_Hour * Hours_Per_Day"
      ],
      "metadata": {
        "colab": {
          "base_uri": "https://localhost:8080/"
        },
        "id": "xZeiHDzwHDzF",
        "outputId": "6e1dc033-17b3-4f13-853c-d28a7b33cc27"
      },
      "execution_count": 10,
      "outputs": [
        {
          "output_type": "execute_result",
          "data": {
            "text/plain": [
              "86400"
            ]
          },
          "metadata": {},
          "execution_count": 10
        }
      ]
    },
    {
      "cell_type": "code",
      "source": [
        "#4.Calculate seconds per day again, but this time save the result in a variable called seconds_per_day\n",
        "\n",
        "#Answer:\n",
        "\n",
        "Hours_Per_Day = 24\n",
        "\n",
        "Seconds_Per_Day = Seconds_Per_Hour * Hours_Per_Day\n",
        "Seconds_Per_Day"
      ],
      "metadata": {
        "colab": {
          "base_uri": "https://localhost:8080/"
        },
        "id": "f26MDjt8HN0s",
        "outputId": "67fe2e15-ed02-4a51-f5b8-24865116adeb"
      },
      "execution_count": 12,
      "outputs": [
        {
          "output_type": "execute_result",
          "data": {
            "text/plain": [
              "86400"
            ]
          },
          "metadata": {},
          "execution_count": 12
        }
      ]
    },
    {
      "cell_type": "code",
      "source": [
        "#5.Divide seconds_per_day by seconds_per_hour. Use floating-point (/) division.\n",
        "\n",
        "#Answer:\n",
        "\n",
        "Seconds_Per_Day/Seconds_Per_Hour"
      ],
      "metadata": {
        "colab": {
          "base_uri": "https://localhost:8080/"
        },
        "id": "9kTH6vbiHSgF",
        "outputId": "cfc04cbc-f2cd-49b0-a766-f02d60c44f00"
      },
      "execution_count": 13,
      "outputs": [
        {
          "output_type": "execute_result",
          "data": {
            "text/plain": [
              "24.0"
            ]
          },
          "metadata": {},
          "execution_count": 13
        }
      ]
    },
    {
      "cell_type": "code",
      "source": [
        "#6.Divide seconds_per_day by seconds_per_hour, using integer (//) division. Did this number agree with the floating-point value from the previous question, aside from the final .0?\n",
        "\n",
        "#Answer:\n",
        "\n",
        "Seconds_Per_Day//Seconds_Per_Hour"
      ],
      "metadata": {
        "colab": {
          "base_uri": "https://localhost:8080/"
        },
        "id": "4tIjeaeBHZmz",
        "outputId": "48e77d08-b986-4c9c-b1c5-7be42b9fa311"
      },
      "execution_count": 14,
      "outputs": [
        {
          "output_type": "execute_result",
          "data": {
            "text/plain": [
              "24"
            ]
          },
          "metadata": {},
          "execution_count": 14
        }
      ]
    },
    {
      "cell_type": "code",
      "source": [
        "#7.Write a generator, genPrimes, that returns the sequence of prime numbers on successive calls to its next() \n",
        "#method: 2, 3, 5, 7, 11, ...\n",
        "\n",
        "#Answer:\n",
        "\n",
        "def genPrimes():\n",
        " \n",
        "    Sequence_Of_Prime_Numbers = []\n",
        "    n = 2\n",
        "    Last_Number_Checked = n\n",
        "\n",
        "    while True:\n",
        "        for i in Sequence_Of_Prime_Numbers:\n",
        "            if n % i == 0:\n",
        "                n = n + 1\n",
        "                break\n",
        "\n",
        "        else:\n",
        "            Sequence_Of_Prime_Numbers.append(n)\n",
        "            Last_Number_Checked = n\n",
        "            n = n + 1\n",
        "            yield Sequence_Of_Prime_Numbers\n",
        "            \n",
        "p = genPrimes()"
      ],
      "metadata": {
        "id": "qr83mc9mHhTr"
      },
      "execution_count": 15,
      "outputs": []
    },
    {
      "cell_type": "code",
      "source": [
        "next(p)"
      ],
      "metadata": {
        "colab": {
          "base_uri": "https://localhost:8080/"
        },
        "id": "t9h-EcHjHm7k",
        "outputId": "fcec0c64-5211-484a-b8eb-069dc9dac788"
      },
      "execution_count": 16,
      "outputs": [
        {
          "output_type": "execute_result",
          "data": {
            "text/plain": [
              "[2]"
            ]
          },
          "metadata": {},
          "execution_count": 16
        }
      ]
    },
    {
      "cell_type": "code",
      "source": [
        "next(p)"
      ],
      "metadata": {
        "colab": {
          "base_uri": "https://localhost:8080/"
        },
        "id": "PdkauEfMHpBJ",
        "outputId": "2ff4c8f6-aeec-42e6-efb1-dd9e3c674e25"
      },
      "execution_count": 17,
      "outputs": [
        {
          "output_type": "execute_result",
          "data": {
            "text/plain": [
              "[2, 3]"
            ]
          },
          "metadata": {},
          "execution_count": 17
        }
      ]
    },
    {
      "cell_type": "code",
      "source": [
        "next(p)"
      ],
      "metadata": {
        "colab": {
          "base_uri": "https://localhost:8080/"
        },
        "id": "wnpQ71lCHpMq",
        "outputId": "d74965b4-7077-4687-a3c1-69809a2e6db3"
      },
      "execution_count": 20,
      "outputs": [
        {
          "output_type": "execute_result",
          "data": {
            "text/plain": [
              "[2, 3, 5, 7]"
            ]
          },
          "metadata": {},
          "execution_count": 20
        }
      ]
    },
    {
      "cell_type": "code",
      "source": [
        "next(p)"
      ],
      "metadata": {
        "colab": {
          "base_uri": "https://localhost:8080/"
        },
        "id": "oTArR-GpHqqX",
        "outputId": "922b61d3-ae24-4ac4-94e5-e9983ddcc6ff"
      },
      "execution_count": 21,
      "outputs": [
        {
          "output_type": "execute_result",
          "data": {
            "text/plain": [
              "[2, 3, 5, 7, 11]"
            ]
          },
          "metadata": {},
          "execution_count": 21
        }
      ]
    },
    {
      "cell_type": "code",
      "source": [
        "next(p)"
      ],
      "metadata": {
        "colab": {
          "base_uri": "https://localhost:8080/"
        },
        "id": "NIBiTq_FHq-s",
        "outputId": "f5481e46-bb13-4ebf-9e0c-e1e5b79a3c5a"
      },
      "execution_count": 22,
      "outputs": [
        {
          "output_type": "execute_result",
          "data": {
            "text/plain": [
              "[2, 3, 5, 7, 11, 13]"
            ]
          },
          "metadata": {},
          "execution_count": 22
        }
      ]
    },
    {
      "cell_type": "code",
      "source": [
        "next(p)"
      ],
      "metadata": {
        "colab": {
          "base_uri": "https://localhost:8080/"
        },
        "id": "GVyChUnFHrm0",
        "outputId": "d33c2b61-6409-4633-87f1-55db2fdce6bb"
      },
      "execution_count": 23,
      "outputs": [
        {
          "output_type": "execute_result",
          "data": {
            "text/plain": [
              "[2, 3, 5, 7, 11, 13, 17]"
            ]
          },
          "metadata": {},
          "execution_count": 23
        }
      ]
    },
    {
      "cell_type": "code",
      "source": [
        "next(p)"
      ],
      "metadata": {
        "colab": {
          "base_uri": "https://localhost:8080/"
        },
        "id": "gCuDfm81HscX",
        "outputId": "7e973ad7-acf4-43c1-af8d-b66f7f2a4eba"
      },
      "execution_count": 24,
      "outputs": [
        {
          "output_type": "execute_result",
          "data": {
            "text/plain": [
              "[2, 3, 5, 7, 11, 13, 17, 19]"
            ]
          },
          "metadata": {},
          "execution_count": 24
        }
      ]
    },
    {
      "cell_type": "code",
      "source": [
        "next(p)"
      ],
      "metadata": {
        "colab": {
          "base_uri": "https://localhost:8080/"
        },
        "id": "5ir3TNk0HvVB",
        "outputId": "40810b62-48ef-4e18-c4ba-66279c9bd274"
      },
      "execution_count": 25,
      "outputs": [
        {
          "output_type": "execute_result",
          "data": {
            "text/plain": [
              "[2, 3, 5, 7, 11, 13, 17, 19, 23]"
            ]
          },
          "metadata": {},
          "execution_count": 25
        }
      ]
    },
    {
      "cell_type": "code",
      "source": [
        ""
      ],
      "metadata": {
        "id": "VBdKAKQ3HvuH"
      },
      "execution_count": null,
      "outputs": []
    }
  ]
}