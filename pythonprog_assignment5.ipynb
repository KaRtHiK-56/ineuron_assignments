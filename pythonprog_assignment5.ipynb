{
  "nbformat": 4,
  "nbformat_minor": 0,
  "metadata": {
    "colab": {
      "name": "pythonprog_assignment5.ipynb",
      "provenance": [],
      "collapsed_sections": []
    },
    "kernelspec": {
      "name": "python3",
      "display_name": "Python 3"
    },
    "language_info": {
      "name": "python"
    }
  },
  "cells": [
    {
      "cell_type": "code",
      "source": [
        "n1 = int(input(\"Enter the first number: \"))\n",
        "n2 = int(input(\"Enter the second number: \"))\n",
        "\n",
        "\n",
        "if n1 > n2:\n",
        "    Greater = n1\n",
        "else:\n",
        "    Greater = n2\n",
        "\n",
        "    \n",
        "while True:\n",
        "    if Greater% n1 == 0 and Greater%n2 == 0:\n",
        "        LCM = Greater\n",
        "        break\n",
        "    Greater = Greater + 1\n",
        "print(\"The LCM of \", n1, \" and \", n2, \" is \", LCM)"
      ],
      "metadata": {
        "colab": {
          "base_uri": "https://localhost:8080/"
        },
        "id": "HSfqshCAJ7hn",
        "outputId": "d884f17c-a467-4b4b-9d76-84e88fc25f36"
      },
      "execution_count": 30,
      "outputs": [
        {
          "output_type": "stream",
          "name": "stdout",
          "text": [
            "Enter the first number: 6\n",
            "Enter the second number: 23\n",
            "The LCM of  6  and  23  is  138\n"
          ]
        }
      ]
    },
    {
      "cell_type": "code",
      "source": [
        "n1 = int(input(\"Enter the first number: \"))\n",
        "n2 = int(input(\"Enter the second number: \"))\n",
        "\n",
        "\n",
        "if n1 < n2:\n",
        "    Lesser = n1\n",
        "else:\n",
        "    Lesser = n2\n",
        "\n",
        "    \n",
        "while True:\n",
        "    if n1% Lesser == 0 and n2%Lesser == 0:\n",
        "        HCF = Lesser\n",
        "        break\n",
        "    Lesser = Lesser - 1\n",
        "print(\"The HCF of \", n1, \" and \", n2, \" is \", HCF)"
      ],
      "metadata": {
        "colab": {
          "base_uri": "https://localhost:8080/"
        },
        "id": "k3X7WxNOKHkL",
        "outputId": "f99bae6b-be20-46ef-f59d-a1cf0bd11e3b"
      },
      "execution_count": 31,
      "outputs": [
        {
          "output_type": "stream",
          "name": "stdout",
          "text": [
            "Enter the first number: 6\n",
            "Enter the second number: 23\n",
            "The HCF of  6  and  23  is  1\n"
          ]
        }
      ]
    },
    {
      "cell_type": "code",
      "source": [
        "i = int(input(\"Enter an integer in decimal system: \"))\n",
        "\n",
        "print()\n",
        "b = bin(i)\n",
        "o = oct(i)\n",
        "h = hex(i)\n",
        "\n",
        "print(\"The decimal value of\", i, \"is: \", b[2::], \" in Binary system\")\n",
        "print(\"The decimal value of\", i, \"is: \", o[2::], \" in Octal system\")\n",
        "print(\"The decimal value of\", i, \"is: \", h[2::], \" in Hexadecimal system\")"
      ],
      "metadata": {
        "colab": {
          "base_uri": "https://localhost:8080/"
        },
        "id": "eLHrQnJdKLyh",
        "outputId": "ff78abaa-f9cd-4028-d712-b55541160da8"
      },
      "execution_count": 32,
      "outputs": [
        {
          "output_type": "stream",
          "name": "stdout",
          "text": [
            "Enter an integer in decimal system: 23\n",
            "\n",
            "The decimal value of 23 is:  10111  in Binary system\n",
            "The decimal value of 23 is:  27  in Octal system\n",
            "The decimal value of 23 is:  17  in Hexadecimal system\n"
          ]
        }
      ]
    },
    {
      "cell_type": "code",
      "source": [
        "Character = input(\"Enter the character for which you want ASCII value: \")    \n",
        "    \n",
        "print (\"The ASCII value of '\" + Character + \"' is\", ord(Character))"
      ],
      "metadata": {
        "colab": {
          "base_uri": "https://localhost:8080/"
        },
        "id": "rVuAOBLAKgHO",
        "outputId": "63fc8cae-34b3-4c4d-b6c7-afa5d8ac4e36"
      },
      "execution_count": 33,
      "outputs": [
        {
          "output_type": "stream",
          "name": "stdout",
          "text": [
            "Enter the character for which you want ASCII value: 6\n",
            "The ASCII value of '6' is 54\n"
          ]
        }
      ]
    },
    {
      "cell_type": "code",
      "source": [
        "def Addition(x, y):\n",
        "    return x + y\n",
        "\n",
        "def Subtraction(x, y):\n",
        "    return x - y\n",
        "\n",
        "\n",
        "def Multiplication(x, y):\n",
        "    return x * y\n",
        "\n",
        "def Division(x, y):\n",
        "    return x / y\n",
        "\n",
        "\n",
        "print(\"Select the type of operation you want to perform with the help of the calcualtor from the options given below:\")\n",
        "print(\"1.  Addition\")\n",
        "print(\"2.  Subtraction\")\n",
        "print(\"3.  Multiplication\")\n",
        "print(\"4.  Division\")\n",
        "\n",
        "while True:\n",
        "    Operation_Type = input(\"Enter the type of operation(1 or 2 or 3 or 4): \")\n",
        "\n",
        "    if Operation_Type in ('1', '2', '3', '4'):\n",
        "        n1 = float(input(\"Enter the first number: \"))\n",
        "        n2 = float(input(\"Enter the second number: \"))\n",
        "\n",
        "        if Operation_Type == '1':\n",
        "            print(n1, \"+\", n2, \"=\", Addition(n1, n2))\n",
        "\n",
        "        elif Operation_Type == '2':\n",
        "            print(n1, \"-\", n2, \"=\", Subtraction(n1, n2))\n",
        "\n",
        "        elif Operation_Type == '3':\n",
        "            print(n1, \"*\", n2, \"=\", Multiplication(n1, n2))\n",
        "\n",
        "        elif Operation_Type == '4':\n",
        "            print(n1, \"/\", n2, \"=\", Division(n1, n2))\n",
        "        \n",
        "\n",
        "        Next_Calculation = input(\"Do you want to perform next calculation? (yes or no): \")\n",
        "        if Next_Calculation == \"no\":\n",
        "            print(\"Have a nice day!    SEE YOU AGAIN SOON\")\n",
        "            break\n",
        "    \n",
        "    else:\n",
        "        print(\"Enter a valid operation type\")"
      ],
      "metadata": {
        "colab": {
          "base_uri": "https://localhost:8080/",
          "height": 825
        },
        "id": "jzhx9fk1KlRO",
        "outputId": "657225ae-96b7-48e3-a50b-7f75c20b5282"
      },
      "execution_count": 34,
      "outputs": [
        {
          "name": "stdout",
          "output_type": "stream",
          "text": [
            "Select the type of operation you want to perform with the help of the calcualtor from the options given below:\n",
            "1.  Addition\n",
            "2.  Subtraction\n",
            "3.  Multiplication\n",
            "4.  Division\n",
            "Enter the type of operation(1 or 2 or 3 or 4): 1\n",
            "Enter the first number: 6\n",
            "Enter the second number: 6\n",
            "6.0 + 6.0 = 12.0\n",
            "Do you want to perform next calculation? (yes or no): y\n",
            "Enter the type of operation(1 or 2 or 3 or 4): 2\n",
            "Enter the first number: 6\n",
            "Enter the second number: 6\n",
            "6.0 - 6.0 = 0.0\n",
            "Do you want to perform next calculation? (yes or no): y\n",
            "Enter the type of operation(1 or 2 or 3 or 4): 6\n",
            "Enter a valid operation type\n",
            "Enter the type of operation(1 or 2 or 3 or 4): 6\n",
            "Enter a valid operation type\n",
            "Enter the type of operation(1 or 2 or 3 or 4): y\n",
            "Enter a valid operation type\n",
            "Enter the type of operation(1 or 2 or 3 or 4): 3\n",
            "Enter the first number: 6\n",
            "Enter the second number: 6\n",
            "6.0 * 6.0 = 36.0\n",
            "Do you want to perform next calculation? (yes or no): y\n",
            "Enter the type of operation(1 or 2 or 3 or 4): 4\n",
            "Enter the first number: 6\n",
            "Enter the second number: 6\n",
            "6.0 / 6.0 = 1.0\n",
            "Do you want to perform next calculation? (yes or no): n\n",
            "Enter the type of operation(1 or 2 or 3 or 4): 1\n",
            "Enter the first number: 1\n",
            "Enter the second number: \n"
          ]
        },
        {
          "output_type": "error",
          "ename": "ValueError",
          "evalue": "ignored",
          "traceback": [
            "\u001b[0;31m---------------------------------------------------------------------------\u001b[0m",
            "\u001b[0;31mValueError\u001b[0m                                Traceback (most recent call last)",
            "\u001b[0;32m<ipython-input-34-ee32eb3ba30a>\u001b[0m in \u001b[0;36m<module>\u001b[0;34m()\u001b[0m\n\u001b[1;32m     24\u001b[0m     \u001b[0;32mif\u001b[0m \u001b[0mOperation_Type\u001b[0m \u001b[0;32min\u001b[0m \u001b[0;34m(\u001b[0m\u001b[0;34m'1'\u001b[0m\u001b[0;34m,\u001b[0m \u001b[0;34m'2'\u001b[0m\u001b[0;34m,\u001b[0m \u001b[0;34m'3'\u001b[0m\u001b[0;34m,\u001b[0m \u001b[0;34m'4'\u001b[0m\u001b[0;34m)\u001b[0m\u001b[0;34m:\u001b[0m\u001b[0;34m\u001b[0m\u001b[0;34m\u001b[0m\u001b[0m\n\u001b[1;32m     25\u001b[0m         \u001b[0mn1\u001b[0m \u001b[0;34m=\u001b[0m \u001b[0mfloat\u001b[0m\u001b[0;34m(\u001b[0m\u001b[0minput\u001b[0m\u001b[0;34m(\u001b[0m\u001b[0;34m\"Enter the first number: \"\u001b[0m\u001b[0;34m)\u001b[0m\u001b[0;34m)\u001b[0m\u001b[0;34m\u001b[0m\u001b[0;34m\u001b[0m\u001b[0m\n\u001b[0;32m---> 26\u001b[0;31m         \u001b[0mn2\u001b[0m \u001b[0;34m=\u001b[0m \u001b[0mfloat\u001b[0m\u001b[0;34m(\u001b[0m\u001b[0minput\u001b[0m\u001b[0;34m(\u001b[0m\u001b[0;34m\"Enter the second number: \"\u001b[0m\u001b[0;34m)\u001b[0m\u001b[0;34m)\u001b[0m\u001b[0;34m\u001b[0m\u001b[0;34m\u001b[0m\u001b[0m\n\u001b[0m\u001b[1;32m     27\u001b[0m \u001b[0;34m\u001b[0m\u001b[0m\n\u001b[1;32m     28\u001b[0m         \u001b[0;32mif\u001b[0m \u001b[0mOperation_Type\u001b[0m \u001b[0;34m==\u001b[0m \u001b[0;34m'1'\u001b[0m\u001b[0;34m:\u001b[0m\u001b[0;34m\u001b[0m\u001b[0;34m\u001b[0m\u001b[0m\n",
            "\u001b[0;31mValueError\u001b[0m: could not convert string to float: "
          ]
        }
      ]
    },
    {
      "cell_type": "code",
      "source": [
        ""
      ],
      "metadata": {
        "id": "QO-SieQQLL8X"
      },
      "execution_count": null,
      "outputs": []
    }
  ]
}