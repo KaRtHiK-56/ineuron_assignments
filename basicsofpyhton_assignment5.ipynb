{
 "cells": [
  {
   "cell_type": "markdown",
   "metadata": {},
   "source": [
    "1. What does an empty dictionary&#39;s code look like?\n",
    "\n",
    "ans: \n",
    "    dict={} and this will return as type dictionary and not set\n",
    "    \n",
    "2. What is the value of a dictionary value with the key &#39;foo&#39; and the value 42?\n",
    "\n",
    "ans: \n",
    "    dictionary={\"foo\":42}\n",
    "    \n",
    "3. What is the most significant distinction between a dictionary and a list?\n",
    "\n",
    "ans: \n",
    "    list : ordered , duplicated , mutable , list=[]\n",
    "    dictionary : unordered , no duplicate for value but key can be duplicated , mutable , dictionary = {}\n",
    "    \n",
    "4. What happens if you try to access spam[&#39;foo&#39;] if spam is {&#39;bar&#39;: 100}?\n",
    "\n",
    "ans :\n",
    "     error will occur as there is no key to match on with the dictionary\n",
    "     \n",
    "5. If a dictionary is stored in spam, what is the difference between the expressions &#39;cat&#39; in spam and &#39;cat&#39; in spam.keys()?\n",
    "\n",
    "ans:\n",
    "    no difference as it checks the value for the key\n",
    "\n",
    "6. If a dictionary is stored in spam, what is the difference between the expressions &#39;cat&#39; in spam and\n",
    "&#39;cat&#39; in spam.values()?\n",
    "\n",
    "ans: \n",
    "    The cat in spam checks whether there is a 'cat' key in the dictionary, while cat in spam.values() checks whether there is a value cat for one of the keys in spam.\n",
    "    \n",
    "7. What is a shortcut for the following code? if &#39;color&#39; not in spam:spam[&#39;color&#39;] = &#39;black&#39;\n",
    "\n",
    "ans:\n",
    "    spam.setdefault('color', 'black')\n",
    "    \n",
    "8. How do you &quot;pretty print&quot; dictionary values using which module and function?\n",
    "\n",
    "ans:\n",
    "    "
   ]
  }
 ],
 "metadata": {
  "kernelspec": {
   "display_name": "Python 3",
   "language": "python",
   "name": "python3"
  },
  "language_info": {
   "codemirror_mode": {
    "name": "ipython",
    "version": 3
   },
   "file_extension": ".py",
   "mimetype": "text/x-python",
   "name": "python",
   "nbconvert_exporter": "python",
   "pygments_lexer": "ipython3",
   "version": "3.7.4"
  }
 },
 "nbformat": 4,
 "nbformat_minor": 2
}
