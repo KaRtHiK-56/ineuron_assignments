{
  "nbformat": 4,
  "nbformat_minor": 0,
  "metadata": {
    "colab": {
      "name": "pythonprog_assignment8.ipynb",
      "provenance": [],
      "collapsed_sections": []
    },
    "kernelspec": {
      "name": "python3",
      "display_name": "Python 3"
    },
    "language_info": {
      "name": "python"
    }
  },
  "cells": [
    {
      "cell_type": "code",
      "source": [
        "import numpy as np\n",
        "\n",
        "matrix1 = np.array([[1,2,3],\n",
        "        [4,5,6],\n",
        "        [7,8,9]])\n",
        "matrix2 = np.array([[9,8,7],\n",
        "        [6,5,4],\n",
        "        [3,2,1]])\n",
        "\n",
        "matrix_sum = np.add(matrix1,matrix2)\n",
        "print(\"The Sum of the matrices \\n\\n{}  and \\n\\n{}  is \\n\\n{} \".format(matrix1,matrix2,matrix_sum))"
      ],
      "metadata": {
        "colab": {
          "base_uri": "https://localhost:8080/"
        },
        "id": "JwXnba4xNGo0",
        "outputId": "611b2f84-2ebb-44e5-8ef9-732ee39a3131"
      },
      "execution_count": 46,
      "outputs": [
        {
          "output_type": "stream",
          "name": "stdout",
          "text": [
            "The Sum of the matrices \n",
            "\n",
            "[[1 2 3]\n",
            " [4 5 6]\n",
            " [7 8 9]]  and \n",
            "\n",
            "[[9 8 7]\n",
            " [6 5 4]\n",
            " [3 2 1]]  is \n",
            "\n",
            "[[10 10 10]\n",
            " [10 10 10]\n",
            " [10 10 10]] \n"
          ]
        }
      ]
    },
    {
      "cell_type": "code",
      "source": [
        "import numpy as np\n",
        "\n",
        "matrix1 = np.array([[1,2,3],\n",
        "        [4,5,6],\n",
        "        [7,8,9]])\n",
        "matrix2 = np.array([[9,8,7],\n",
        "        [6,5,4],\n",
        "        [3,2,1]])\n",
        "\n",
        "matrix_product = np.dot(matrix1,matrix2)\n",
        "print(\"The Product of the matrices \\n\\n{}  and \\n\\n{}  is \\n\\n{} \".format(matrix1,matrix2,matrix_product))"
      ],
      "metadata": {
        "colab": {
          "base_uri": "https://localhost:8080/"
        },
        "id": "FSQpX7OLNHDP",
        "outputId": "b59d70bf-d873-43b2-e9a7-87f5990d502a"
      },
      "execution_count": 47,
      "outputs": [
        {
          "output_type": "stream",
          "name": "stdout",
          "text": [
            "The Product of the matrices \n",
            "\n",
            "[[1 2 3]\n",
            " [4 5 6]\n",
            " [7 8 9]]  and \n",
            "\n",
            "[[9 8 7]\n",
            " [6 5 4]\n",
            " [3 2 1]]  is \n",
            "\n",
            "[[ 30  24  18]\n",
            " [ 84  69  54]\n",
            " [138 114  90]] \n"
          ]
        }
      ]
    },
    {
      "cell_type": "code",
      "source": [
        "import numpy as np\n",
        "\n",
        "matrix1 = np.array([[1,2,3],\n",
        "        [4,5,6],\n",
        "        [7,8,9]])\n",
        "\n",
        "\n",
        "matrix_transpose = np.transpose(matrix1)\n",
        "print(\"The Transpose of the matrix \\n\\n{} is \\n\\n{} \".format(matrix1,matrix_transpose))"
      ],
      "metadata": {
        "colab": {
          "base_uri": "https://localhost:8080/"
        },
        "id": "vQbiranKNJ_X",
        "outputId": "f66edb2f-6701-4d23-924e-891d4509f4cf"
      },
      "execution_count": 48,
      "outputs": [
        {
          "output_type": "stream",
          "name": "stdout",
          "text": [
            "The Transpose of the matrix \n",
            "\n",
            "[[1 2 3]\n",
            " [4 5 6]\n",
            " [7 8 9]] is \n",
            "\n",
            "[[1 4 7]\n",
            " [2 5 8]\n",
            " [3 6 9]] \n"
          ]
        }
      ]
    },
    {
      "cell_type": "code",
      "source": [
        "def words_sorter():\n",
        "    \n",
        "    user_input = input(\"Enter a string of words to sort them in alphabetical order: \")\n",
        "    print()\n",
        "    sorted_list = sorted(user_input.lower().split())\n",
        "    print(' '.join(sorted_list))\n",
        "\n",
        "words_sorter()"
      ],
      "metadata": {
        "colab": {
          "base_uri": "https://localhost:8080/"
        },
        "id": "aC5QaHdjNMTo",
        "outputId": "7e2f24e9-b78c-4613-af00-d2b9d73f5537"
      },
      "execution_count": 51,
      "outputs": [
        {
          "output_type": "stream",
          "name": "stdout",
          "text": [
            "Enter a string of words to sort them in alphabetical order: hello my name is tony\n",
            "\n",
            "hello is my name tony\n"
          ]
        }
      ]
    },
    {
      "cell_type": "code",
      "source": [
        "def punctuation_remover():\n",
        "    import string\n",
        "    user_input = input(\"Enter the string from which you want to remove the punctuation: \")\n",
        "    output = ''.join([i for i in user_input if i not in string.punctuation])\n",
        "    return output\n",
        "\n",
        "punctuation_remover()"
      ],
      "metadata": {
        "colab": {
          "base_uri": "https://localhost:8080/",
          "height": 125
        },
        "id": "n7sFj18HNOe-",
        "outputId": "a506f8b0-38d8-4f40-e7cd-9e6597dfdc23"
      },
      "execution_count": 52,
      "outputs": [
        {
          "name": "stdout",
          "output_type": "stream",
          "text": [
            "Enter the string from which you want to remove the punctuation: Full-stack data science course is a live mentor-led job guaranteed certification program with a full-time one-year internship provided by iNeuron, in this course you will learn the entire stack required to work in the data science, data analytics, and big data domain, including machine learning, deep learning, computer vision NLP and Big data including MLOps and cloud infrastructure, along with real-time industry projects and product development with the iNeuron product development team, which will enable you to contribute on various levels.\n"
          ]
        },
        {
          "output_type": "execute_result",
          "data": {
            "text/plain": [
              "'Fullstack data science course is a live mentorled job guaranteed certification program with a fulltime oneyear internship provided by iNeuron in this course you will learn the entire stack required to work in the data science data analytics and big data domain including machine learning deep learning computer vision NLP and Big data including MLOps and cloud infrastructure along with realtime industry projects and product development with the iNeuron product development team which will enable you to contribute on various levels'"
            ],
            "application/vnd.google.colaboratory.intrinsic+json": {
              "type": "string"
            }
          },
          "metadata": {},
          "execution_count": 52
        }
      ]
    },
    {
      "cell_type": "code",
      "source": [
        ""
      ],
      "metadata": {
        "id": "VBCXgk2UNhgc"
      },
      "execution_count": null,
      "outputs": []
    }
  ]
}