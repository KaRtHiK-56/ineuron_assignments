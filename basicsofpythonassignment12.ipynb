{
  "nbformat": 4,
  "nbformat_minor": 0,
  "metadata": {
    "colab": {
      "name": "basicsofpythonassignment12.ipynb",
      "provenance": []
    },
    "kernelspec": {
      "name": "python3",
      "display_name": "Python 3"
    },
    "language_info": {
      "name": "python"
    }
  },
  "cells": [
    {
      "cell_type": "markdown",
      "source": [
        "1.What is the difference between enclosing a list comprehension in square brackets and parentheses?\n",
        "\n",
        "Answer:\n",
        "\n",
        "Enclosing a list comprehension in square brackets returns a list, whereas enclosing a list comprehension in parentheses looks like it might create a tuple, \n",
        "but it returns a generator object."
      ],
      "metadata": {
        "id": "fx7UvEKvC-Xk"
      }
    },
    {
      "cell_type": "markdown",
      "source": [
        "2.What is the relationship between generators and iterators?\n",
        "\n",
        "Answer:\n",
        "\n",
        "An iterator is an object which contains a countable number of values and it is used to iterate over iterable objects like list, tuples etc. Iterators are implemented using a class. It follows lazy evaluation where the evaluation of the expression will be on hold and stored in the memory until the item is called specifically which helps us to avoid repeated evaluation. As lazy evaluation is implemented, it requires only 1 memory location to process the value and when we are using a large dataset then, wastage of RAM space will be reduced the need to load the entire dataset at the same time will not be there. For an iterator: iter() keyword is used to create an iterator containing an iterable object. next() keyword is used to call the next element in the iterable object.\n",
        "\n",
        "Similarly Generators are an another way of creating iterators in a simple way where it uses the keyword yield statement instead of return statement in a defined function. Generators are implemented using a function. Just as iterators, generators also follow lazy evaluation. Here, the yield function returns the data without affecting or exiting the function. It will return a sequence of data in an iterable format where we need to iterate over the sequence to use the data as they won’t store the entire sequence in the memory."
      ],
      "metadata": {
        "id": "E71iiCeUDGJz"
      }
    },
    {
      "cell_type": "markdown",
      "source": [
        "3.\n",
        "What are the signs that a function is a generator function?\n",
        "\n",
        "Answer:\n",
        "\n",
        "A generator function uses a yield statement instead of a return statement. A generator function will always return a iterable object called generator. where as a normal function can return a string/list/tuple/dict/NoneType ... etc"
      ],
      "metadata": {
        "id": "yYKULriJDICb"
      }
    },
    {
      "cell_type": "markdown",
      "source": [
        "4.\n",
        "What is the purpose of a yield statement?\n",
        "\n",
        "Answer:\n",
        "\n",
        "The yield statement suspends function’s execution and sends a value back to the caller, but retains enough state to enable function to resume where it is left off. When resumed, the function continues execution immediately after the last yield run. This allows its code to produce a series of values over time, rather than computing them at once and sending them back like a list."
      ],
      "metadata": {
        "id": "wa5wNDCdDPHz"
      }
    },
    {
      "cell_type": "markdown",
      "source": [
        "5.\n",
        "What is the relationship between map calls and list comprehensions? Make a comparison and contrast between the two.\n",
        "\n",
        "Answer:\n",
        "\n",
        "Map function: Suppose we have a function and we want to compute this function for different values in a single line of code . This is where map() function plays its role. map() function returns a map object(which is an iterator) of the results after applying the given function to each item of a given iterable (list, tuple etc.)\n",
        "\n",
        "If we already have a function defined, it is often good to use map For example, map(sum, myLists) is more neat than [sum(x) for x in myLists]. You gain the elegance of not having to make up a dummy variable (e.g. sum(x) for x... or sum() for ... or sum(readableName) for readableName...) which you have to type twice, just to iterate.\n",
        "\n",
        "List Comprehension: List Comprehension is a substitute for the lambda function, map(), filter() and reduce()\n",
        "\n",
        "Comparision :\n",
        "\n",
        "List comprehension is more concise and easier to read as compared to map.\n",
        "List comprehension allows filtering. In map, we have no such facility For example, to print all even numbers in range of 100, we can write [n for n in range(100) if n%2 == 0]. There is no alternate for it in map.\n",
        "List comprehension are used when a list of results is required, where as map only returns a map object and does not return any list.\n",
        "List comprehension is faster than map when we need to evaluate expressions that are too long or complicated to express.\n",
        "Map is faster in case of calling an already defined function (as no lambda is required)."
      ],
      "metadata": {
        "id": "y0NlLfmeDR-C"
      }
    },
    {
      "cell_type": "code",
      "source": [
        ""
      ],
      "metadata": {
        "id": "YFnuGUKVDWV_"
      },
      "execution_count": null,
      "outputs": []
    }
  ]
}