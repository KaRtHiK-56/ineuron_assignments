{
 "cells": [
  {
   "cell_type": "markdown",
   "metadata": {},
   "source": [
    "1. In the below elements which of them are values or an expression? eg:- values can be\n",
    "integer or string and expressions will be mathematical operators.\n",
    "*\n",
    "&#39;hello&#39;\n",
    "-87.8\n",
    "-\n",
    "/\n",
    "+\n",
    "6\n",
    "\n",
    "ans:\n",
    "expressions are the combination of operator and operator to produce a value \n",
    "\n",
    "VALUES - 'hello' , -87.8 , 6 \n",
    "\n",
    "EXPRESSIONS - + , - , * , \\"
   ]
  },
  {
   "cell_type": "markdown",
   "metadata": {},
   "source": [
    "2. What is the difference between string and variable?\n",
    "\n",
    "ans :\n",
    "    STRING - string is a collection or a sequence of characters folowed after one another ,  string in python is denoted by ''\n",
    "or \" \" example : \"hello\" \n",
    "    VARIABLES : variables are a name which gives values or a string a meaningful name for a memory location where the value \n",
    "is about to be saved , variable is denoted by userdefined name assigned to a value example : a=5 , name = \"assignment\"\n"
   ]
  },
  {
   "cell_type": "markdown",
   "metadata": {},
   "source": [
    "3. Describe three different data types.\n",
    "\n",
    "ans:\n",
    "    NUMERIC\n",
    "    STRING\n",
    "    SEQUENCE"
   ]
  },
  {
   "cell_type": "markdown",
   "metadata": {},
   "source": [
    "4. What is an expression made up of? What do all expressions do?\n",
    "\n",
    "ans :\n",
    "    expressions are the combination of operator and operator to produce a value. as the expressison are evaluated it produces a \n",
    "value example a= 1+2 print(a) as this expression is evaluated the output as 3 "
   ]
  },
  {
   "cell_type": "markdown",
   "metadata": {},
   "source": [
    "5. This assignment statements, like spam = 10. What is the difference between an expression and a statement?\n",
    "\n",
    "ans : \n",
    "    spam = 10 this is completely a statement as 10 a value is assigned to a statement spam and does not produce a value\n",
    "where in constrast expression always produces a value .\n",
    "    "
   ]
  },
  {
   "cell_type": "markdown",
   "metadata": {},
   "source": [
    "6. After running the following code, what does the variable bacon contain?\n",
    "bacon = 22\n",
    "bacon + 1\n",
    "\n",
    "ans : the value stored is 22 as bacon + 1 is not assigned it will not increment "
   ]
  },
  {
   "cell_type": "markdown",
   "metadata": {},
   "source": [
    "7. What should the values of the following two terms be?\n",
    "&#39;spam&#39; + &#39;spamspam&#39;\n",
    "&#39;spam&#39; * 3\n",
    "\n",
    "ans :\n",
    "both produces the same answer as mentioned below\n",
    "\n",
    "spamspamspam\n",
    "spamspamspam"
   ]
  },
  {
   "cell_type": "markdown",
   "metadata": {},
   "source": [
    "8. Why is eggs a valid variable name while 100 is invalid?\n",
    "\n",
    "ans : variable name should not start with numerical value "
   ]
  },
  {
   "cell_type": "markdown",
   "metadata": {},
   "source": [
    "9. What three functions can be used to get the integer, floating-point number, or string\n",
    "version of a value?\n",
    "\n",
    "ans :\n",
    "    integer - int()\n",
    "    floating-point number- float()\n",
    "    string - str()\n",
    "    "
   ]
  },
  {
   "cell_type": "markdown",
   "metadata": {},
   "source": [
    "10. Why does this expression cause an error? How can you fix it?\n",
    "&#39;I have eaten &#39; + 99 + &#39; burritos.&#39;\n",
    "\n",
    "ans : \n",
    "    the error will be type error as the 99 is integer and other is string and it cannot concat different datatypes\n",
    "    it can be fixed by typecasting of str(99) or \"99\""
   ]
  }
 ],
 "metadata": {
  "kernelspec": {
   "display_name": "Python 3",
   "language": "python",
   "name": "python3"
  },
  "language_info": {
   "codemirror_mode": {
    "name": "ipython",
    "version": 3
   },
   "file_extension": ".py",
   "mimetype": "text/x-python",
   "name": "python",
   "nbconvert_exporter": "python",
   "pygments_lexer": "ipython3",
   "version": "3.7.4"
  }
 },
 "nbformat": 4,
 "nbformat_minor": 2
}
