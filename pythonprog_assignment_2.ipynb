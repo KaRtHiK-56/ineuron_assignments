{
 "cells": [
  {
   "cell_type": "code",
   "execution_count": 6,
   "metadata": {},
   "outputs": [
    {
     "name": "stdout",
     "output_type": "stream",
     "text": [
      "145\n",
      "90.098795\n"
     ]
    }
   ],
   "source": [
    "#1. Write a Python program to convert kilometers to miles?\n",
    "kilometer = int(input())\n",
    "miles =  kilometer * 0.621371\n",
    "print(miles)"
   ]
  },
  {
   "cell_type": "code",
   "execution_count": 8,
   "metadata": {},
   "outputs": [
    {
     "name": "stdout",
     "output_type": "stream",
     "text": [
      "37\n",
      "98.6\n"
     ]
    }
   ],
   "source": [
    "#2. Write a Python program to convert Celsius to Fahrenheit?\n",
    "celcius = float(input())\n",
    "fahrenheit = (celcius * 9/5) + 32 \n",
    "print(fahrenheit)"
   ]
  },
  {
   "cell_type": "code",
   "execution_count": 10,
   "metadata": {},
   "outputs": [
    {
     "name": "stdout",
     "output_type": "stream",
     "text": [
      "Enter year: 1999\n",
      "Enter month: 8\n",
      "    August 1999\n",
      "Mo Tu We Th Fr Sa Su\n",
      "                   1\n",
      " 2  3  4  5  6  7  8\n",
      " 9 10 11 12 13 14 15\n",
      "16 17 18 19 20 21 22\n",
      "23 24 25 26 27 28 29\n",
      "30 31\n",
      "\n"
     ]
    }
   ],
   "source": [
    "#3. Write a Python program to display calendar?\n",
    "import calendar\n",
    "year = int(input(\"Enter year: \"))\n",
    "month = int(input(\"Enter month: \"))\n",
    "print(calendar.month(year, month))"
   ]
  },
  {
   "cell_type": "code",
   "execution_count": 12,
   "metadata": {},
   "outputs": [
    {
     "name": "stdout",
     "output_type": "stream",
     "text": [
      " real and different roots \n",
      "2.0\n",
      "-12.0\n"
     ]
    }
   ],
   "source": [
    "#4. Write a Python program to solve quadratic equation?\n",
    "import math\n",
    "a=1\n",
    "b=10\n",
    "c=-24\n",
    "dis = b * b - 4 * a * c \n",
    "sqrt_val = math.sqrt(abs(dis)) \n",
    "if dis > 0: \n",
    "    print(\" real and different roots \") \n",
    "    print((-b + sqrt_val)/(2 * a)) \n",
    "    print((-b - sqrt_val)/(2 * a)) \n",
    "elif dis == 0: \n",
    "    print(\" real and same roots\") \n",
    "    print(-b / (2 * a)) \n",
    "else:\n",
    "    print(\"Complex Roots\") \n",
    "    print(- b / (2 * a), \" + i\", sqrt_val) \n",
    "    print(- b / (2 * a), \" - i\", sqrt_val)"
   ]
  },
  {
   "cell_type": "code",
   "execution_count": 13,
   "metadata": {},
   "outputs": [
    {
     "name": "stdout",
     "output_type": "stream",
     "text": [
      "5\n",
      "3\n"
     ]
    }
   ],
   "source": [
    "#5. Write a Python program to swap two variables without temp variable?\n",
    "a=3\n",
    "b=5\n",
    "a,b=b,a\n",
    "print(a)\n",
    "print(b)"
   ]
  },
  {
   "cell_type": "code",
   "execution_count": null,
   "metadata": {},
   "outputs": [],
   "source": []
  }
 ],
 "metadata": {
  "kernelspec": {
   "display_name": "Python 3",
   "language": "python",
   "name": "python3"
  },
  "language_info": {
   "codemirror_mode": {
    "name": "ipython",
    "version": 3
   },
   "file_extension": ".py",
   "mimetype": "text/x-python",
   "name": "python",
   "nbconvert_exporter": "python",
   "pygments_lexer": "ipython3",
   "version": "3.7.4"
  }
 },
 "nbformat": 4,
 "nbformat_minor": 2
}
