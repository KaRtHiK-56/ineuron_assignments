{
  "nbformat": 4,
  "nbformat_minor": 0,
  "metadata": {
    "colab": {
      "provenance": []
    },
    "kernelspec": {
      "name": "python3",
      "display_name": "Python 3"
    },
    "language_info": {
      "name": "python"
    }
  },
  "cells": [
    {
      "cell_type": "markdown",
      "source": [
        "1. Make a class called Thing with no contents and print it. Then, create an object called example\n",
        "from this class and also print it. Are the printed values the same or different?\n"
      ],
      "metadata": {
        "id": "6GpnumwFrfj_"
      }
    },
    {
      "cell_type": "code",
      "source": [
        "class thing:\n",
        "  pass\n",
        "\n",
        "print(thing)\n",
        "\n",
        "example=thing()\n",
        "print(example)\n",
        "\n",
        "\n",
        "#yes these two differ"
      ],
      "metadata": {
        "colab": {
          "base_uri": "https://localhost:8080/"
        },
        "id": "zGibgkHerh9h",
        "outputId": "2afc395b-0c8e-4e0e-b280-f7f1431b90f9"
      },
      "execution_count": 8,
      "outputs": [
        {
          "output_type": "stream",
          "name": "stdout",
          "text": [
            "<class '__main__.thing'>\n",
            "<__main__.thing object at 0x7f93fcaf7710>\n"
          ]
        }
      ]
    },
    {
      "cell_type": "markdown",
      "source": [
        "2. Create a new class called Thing2 and add the value &#39;abc&#39; to the letters class attribute. Letters\n",
        "should be printed."
      ],
      "metadata": {
        "id": "Nutq5zHGrgaJ"
      }
    },
    {
      "cell_type": "code",
      "source": [
        "class thing2():\n",
        "  letters='abc'\n",
        "\n",
        "print(thing2.letters)"
      ],
      "metadata": {
        "colab": {
          "base_uri": "https://localhost:8080/"
        },
        "id": "lhcjgbBWrghY",
        "outputId": "744985e3-4526-47ef-e68d-6f16bc46f609"
      },
      "execution_count": 9,
      "outputs": [
        {
          "output_type": "stream",
          "name": "stdout",
          "text": [
            "abc\n"
          ]
        }
      ]
    },
    {
      "cell_type": "markdown",
      "source": [
        "3. Make yet another class called, of course, Thing3. This time, assign the value &#39;xyz&#39; to an instance\n",
        "(object) attribute called letters. Print letters. Do you need to make an object from the class to do\n",
        "this?"
      ],
      "metadata": {
        "id": "0ow6_lc8rgq_"
      }
    },
    {
      "cell_type": "code",
      "source": [
        "class thing3():\n",
        "  def __init__(self):\n",
        "        self.letters = 'xyz'\n",
        "\n",
        "x = thing3()\n",
        "print(x.letters)\n",
        "\n",
        "#yes it is required "
      ],
      "metadata": {
        "colab": {
          "base_uri": "https://localhost:8080/"
        },
        "id": "yh8aadfjrgv5",
        "outputId": "9bfb8e7b-bd40-4e39-a2e0-e1bb298a151f"
      },
      "execution_count": 10,
      "outputs": [
        {
          "output_type": "stream",
          "name": "stdout",
          "text": [
            "xyz\n"
          ]
        }
      ]
    },
    {
      "cell_type": "markdown",
      "source": [
        "4. Create an Element class with the instance attributes name, symbol, and number. Create a class\n",
        "object with the values &#39;Hydrogen,&#39; &#39;H,&#39; and 1."
      ],
      "metadata": {
        "id": "dlYGOsYhrg5P"
      }
    },
    {
      "cell_type": "code",
      "source": [
        "class element:   \n",
        "    def __init__(self, name, symbol, number):\n",
        "        self.name = name\n",
        "        self.symbol = symbol\n",
        "        self.number = number\n",
        "\n",
        "x = element('Hydrogen','H',1)\n"
      ],
      "metadata": {
        "id": "GCP7w2MfrhAR"
      },
      "execution_count": 13,
      "outputs": []
    },
    {
      "cell_type": "markdown",
      "source": [
        "5. Make a dictionary with these keys and values: &#39;name&#39;: &#39;Hydrogen&#39;, &#39;symbol&#39;: &#39;H&#39;, &#39;number&#39;: 1. Then,\n",
        "create an object called hydrogen from class Element using this dictionary."
      ],
      "metadata": {
        "id": "GX3Gs_YTrhJH"
      }
    },
    {
      "cell_type": "code",
      "source": [
        "dict = {'name':'Hydrogen','symbol':'H','number':1}\n",
        "print(dict)\n",
        "\n",
        "hydrogen = element(*dict.values())\n",
        "print(hydrogen.name,hydrogen.symbol,hydrogen.number)\n"
      ],
      "metadata": {
        "colab": {
          "base_uri": "https://localhost:8080/"
        },
        "id": "jv7u7mC7rhPD",
        "outputId": "a33520b4-bf2f-4a6c-ce69-c3bac83bb294"
      },
      "execution_count": 14,
      "outputs": [
        {
          "output_type": "stream",
          "name": "stdout",
          "text": [
            "{'name': 'Hydrogen', 'symbol': 'H', 'number': 1}\n",
            "Hydrogen H 1\n"
          ]
        }
      ]
    },
    {
      "cell_type": "markdown",
      "source": [
        "6. For the Element class, define a method called dump() that prints the values of the object’s\n",
        "attributes (name, symbol, and number). Create the hydrogen object from this new definition and\n",
        "use dump() to print its attributes."
      ],
      "metadata": {
        "id": "JiJNBOR0rivx"
      }
    },
    {
      "cell_type": "code",
      "source": [
        "class element:\n",
        "    def __init__(self, name, symbol, number):\n",
        "        self.name = name\n",
        "        self.symbol = symbol\n",
        "        self.number = number      \n",
        "    def dump(self):\n",
        "        print(self.name, self.symbol, self.number)\n",
        "        \n",
        "hydrogen = element('Hydrogen','H',1)\n",
        "hydrogen.dump()"
      ],
      "metadata": {
        "colab": {
          "base_uri": "https://localhost:8080/"
        },
        "id": "7h0dH9-Uri5H",
        "outputId": "e1a5df61-af08-42a2-ac4c-a7d79ba1080d"
      },
      "execution_count": 19,
      "outputs": [
        {
          "output_type": "stream",
          "name": "stdout",
          "text": [
            "Hydrogen H 1\n"
          ]
        }
      ]
    },
    {
      "cell_type": "markdown",
      "source": [
        "7. Call print(hydrogen). In the definition of Element, change the name of method dump to __str__,\n",
        "create a new hydrogen object, and call print(hydrogen) again."
      ],
      "metadata": {
        "id": "ACvh4AhOrjE_"
      }
    },
    {
      "cell_type": "code",
      "source": [
        "print(hydrogen)\n",
        "\n",
        "class element:\n",
        "    def __init__(self, name, symbol, number):\n",
        "        self.name = name\n",
        "        self.symbol = symbol\n",
        "        self.number = number      \n",
        "    def __str__(self):\n",
        "        return f'{self.name} {self.symbol} {self.number}'\n",
        "        \n",
        "Hydrogen = element('Hydrogen','H',1)\n",
        "print(Hydrogen)"
      ],
      "metadata": {
        "colab": {
          "base_uri": "https://localhost:8080/"
        },
        "id": "bEPnGdbCrjKw",
        "outputId": "92035e60-0d02-4804-d4ca-5af5f78ae83b"
      },
      "execution_count": 18,
      "outputs": [
        {
          "output_type": "stream",
          "name": "stdout",
          "text": [
            "<__main__.element object at 0x7f93fcc30410>\n",
            "Hydrogen H 1\n"
          ]
        }
      ]
    },
    {
      "cell_type": "markdown",
      "source": [
        "8. Modify Element to make the attributes name, symbol, and number private. Define a getter\n",
        "property for each to return its value."
      ],
      "metadata": {
        "id": "ss5dy3EYrja3"
      }
    },
    {
      "cell_type": "code",
      "source": [
        "class element:\n",
        "    def __init__(self,name,symbol,number):\n",
        "        self.__name = name\n",
        "        self.__symbol = symbol\n",
        "        self.__number = number\n",
        "    \n",
        "    @property\n",
        "    def get_name(self):\n",
        "        return self.__name\n",
        "    \n",
        "    @property\n",
        "    def get_symbol(self):\n",
        "        return self.__symbol\n",
        "    \n",
        "    @property\n",
        "    def get_number(self):\n",
        "        return self.__number\n",
        "    \n",
        "hydrogen = element('Hydrogen','H',1)\n",
        "print(hydrogen.get_name)\n",
        "print(hydrogen.get_symbol)\n",
        "print(hydrogen.get_number)"
      ],
      "metadata": {
        "colab": {
          "base_uri": "https://localhost:8080/"
        },
        "id": "ZR3jS3bhrjhq",
        "outputId": "6e6bef25-1826-4cd3-9ec9-71d31ff6922b"
      },
      "execution_count": 17,
      "outputs": [
        {
          "output_type": "stream",
          "name": "stdout",
          "text": [
            "Hydrogen\n",
            "H\n",
            "1\n"
          ]
        }
      ]
    },
    {
      "cell_type": "markdown",
      "source": [
        "9. Define three classes: Bear, Rabbit, and Octothorpe. For each, define only one method: eats(). This\n",
        "should return &#39;berries&#39; (Bear), &#39;clover&#39; (Rabbit), or &#39;campers&#39; (Octothorpe). Create one object from\n",
        "each and print what it eats."
      ],
      "metadata": {
        "id": "5RBeEGb9rjpX"
      }
    },
    {
      "cell_type": "code",
      "source": [
        "class bear:\n",
        "    def eats(self):\n",
        "        print('berries')\n",
        "class rabbit:\n",
        "    def eats(self):\n",
        "        print('clover')\n",
        "class octothorpe:\n",
        "    def eats(self):\n",
        "        print('campers')\n",
        "        \n",
        "bear = bear()\n",
        "rabbit = rabbit()\n",
        "octothrope = octothorpe()\n",
        "\n",
        "bear.eats()\n",
        "rabbit.eats()\n",
        "octothrope.eats()"
      ],
      "metadata": {
        "colab": {
          "base_uri": "https://localhost:8080/"
        },
        "id": "ISshDSiVrjvX",
        "outputId": "dd28f001-2f81-4e33-b611-edb1b629d0a2"
      },
      "execution_count": 16,
      "outputs": [
        {
          "output_type": "stream",
          "name": "stdout",
          "text": [
            "berries\n",
            "clover\n",
            "campers\n"
          ]
        }
      ]
    },
    {
      "cell_type": "markdown",
      "source": [
        "10. Define these classes: Laser, Claw, and SmartPhone. Each has only one method: does(). This\n",
        "returns &#39;disintegrate&#39; (Laser), &#39;crush&#39; (Claw), or &#39;ring&#39; (SmartPhone). Then, define the class Robot that\n",
        "has one instance (object) of each of these. Define a does() method for the Robot that prints what its\n",
        "component objects do."
      ],
      "metadata": {
        "id": "vbhLlBlyrj5-"
      }
    },
    {
      "cell_type": "code",
      "source": [
        "class laser:\n",
        "    def does(self):\n",
        "        return 'disintegrate'\n",
        "class claw:\n",
        "    def does(self):\n",
        "        return 'crush'\n",
        "class smartphone:\n",
        "    def does(self):\n",
        "        return 'ring'\n",
        "class robot:\n",
        "    def __init__(self):\n",
        "        self.laser = laser()\n",
        "        self.claw = claw()\n",
        "        self.smartphone = smartphone()\n",
        "    def does(self):\n",
        "        print(self.laser.does(),self.claw.does(),self.smartphone.does())\n",
        "        \n",
        "r2d2 = robot()\n",
        "r2d2.does()"
      ],
      "metadata": {
        "colab": {
          "base_uri": "https://localhost:8080/"
        },
        "id": "DLrIU2rzrkAH",
        "outputId": "e4f9049c-44b4-4726-99be-ee55a700fc4a"
      },
      "execution_count": 15,
      "outputs": [
        {
          "output_type": "stream",
          "name": "stdout",
          "text": [
            "disintegrate crush ring\n"
          ]
        }
      ]
    },
    {
      "cell_type": "code",
      "source": [],
      "metadata": {
        "id": "_xqD6HWczeiV"
      },
      "execution_count": null,
      "outputs": []
    }
  ]
}